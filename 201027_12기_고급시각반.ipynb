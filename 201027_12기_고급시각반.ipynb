{
 "cells": [
  {
   "cell_type": "markdown",
   "metadata": {
    "id": "dNIxmrIC0XVB"
   },
   "source": [
    "# [AI 이노베이션 스퀘어] 12기 고급 시각반\n",
    "- github: https://github.com/hysKim1/AI_Vision\n",
    "    - [파이썬 공식문서]https://docs.python.org/ko/3/\n",
    "    - [Numpy 공식문서]https://numpy.org/devdocs/\n",
    "    - [ML]https://developers.google.com/machine-learning/crash-course/ml-intro?hl=ko\n",
    "    - [DL]https://www.tensorflow.org/?hl=ko\n",
    "      \n",
    "---\n",
    "* [Autoencoder](#Autoencoder)\n",
    "    * [Simple Autoencoder](#Simple-Autoencoder)\n",
    "    * [Sparse Autoencoder:regularizer](#regularizer)\n",
    "    * [Deep Autoencoder](#Deep-Autoencoder)\n",
    "    * [Convolutional Autoencoder](#Convolutional-Autoencoder)\n",
    "    * [Denoising](#Denoising)\n",
    "--- \n",
    "\n",
    "\n",
    "Model:\n",
    "  - 실생활 > 특별한 단순한 형태(가정)\n",
    "  - 표현형태: 그림/글/기호,수식\n",
    "Computational Model\n",
    "  - 계산 가능\n",
    "  - Intelligence > Artificial Intelligence (AI) \n",
    "  - programming 형태 표현\n",
    "\n",
    "## Autoencoder\n",
    "- representation learning: 숨겨진 구조/특성을 찾는 학습\n",
    "    - Autoencoder : encoder & decoder\n",
    "- 데이터를 통해서 데이터 특징 찾아서 **단순화**(특성을 압축 compresssion)하고 다시 **특징을 복원**(reconstruction)\n",
    "- data sepecific - 데이터마다 모델이 상이함\n",
    " - 데이터를 압출해도 학습 형태와 유사함\n",
    " - 일반적 압축 알고리즘과 상이함\n",
    "\n",
    "### 3요소\n",
    "- encoding func\n",
    "- decoding func\n",
    "- loss func: 원본에 대해 압축된 표현\n",
    "\n",
    "\n",
    "- keras blog, Building Autoencoders in Keras 참고: \n",
    "https://blog.keras.io/building-autoencoders-in-keras.html\n",
    "  > - badly outdated\n",
    "\n",
    "- 논문 참고: Recent advnaces in Autoencoder-based Representation Learning(2018)  \n",
    "    - 비지도학습: 특정 지식이 생기면 바탕으로 자기학습\n",
    "    - unlabelled data 훨씬 더 많음 "
   ]
  },
  {
   "cell_type": "code",
   "execution_count": null,
   "metadata": {
    "id": "FtKXDEXW0QgP"
   },
   "outputs": [],
   "source": [
    "import tensorflow as tf"
   ]
  },
  {
   "cell_type": "code",
   "execution_count": null,
   "metadata": {
    "id": "A7TJhl4G0Q7h"
   },
   "outputs": [],
   "source": [
    "(X_train,_),(X_test,_)=tf.keras.datasets.mnist.load_data() #비지도 학습"
   ]
  },
  {
   "cell_type": "code",
   "execution_count": null,
   "metadata": {
    "id": "AbSi1C5x1CB8"
   },
   "outputs": [],
   "source": [
    "X_train =X_train.reshape(60000,28*28) \n",
    "X_train=X_train/255\n",
    "\n",
    "X_test =X_test.reshape(-1,28*28)\n",
    "X_test=X_test/25"
   ]
  },
  {
   "cell_type": "markdown",
   "metadata": {
    "id": "PEqca5Em1Rqb"
   },
   "source": [
    "### Simple Autoencoder\n",
    "- semi-supervised\n",
    "- 784개 입력 데이터를 32개로 줄어들었다가 다시 784로 복원\n",
    "- 잘 되었는지 확인하기 위해서 이진분류를 위해서 sigmoid"
   ]
  },
  {
   "cell_type": "code",
   "execution_count": null,
   "metadata": {
    "id": "0iqD3OIH1J3j"
   },
   "outputs": [],
   "source": [
    "inputs=tf.keras.Input((784,)) \n",
    "encoder=tf.keras.layers.Dense(32, activation='relu')(inputs) #784 개를 32개로 표현\n",
    "decoder=tf.keras.layers.Dense(784, activation='sigmoid')(encoder) # 복원\n",
    "\n",
    "autoencoder=tf.keras.models.Model(inputs, decoder)"
   ]
  },
  {
   "cell_type": "code",
   "execution_count": null,
   "metadata": {
    "id": "BmrNYRLw1yEd"
   },
   "outputs": [],
   "source": [
    "autoencoder.compile(optimizer='adam', loss='binary_crossentropy') #이진분류"
   ]
  },
  {
   "cell_type": "markdown",
   "metadata": {
    "id": "Ppcmz8Kq20Iy"
   },
   "source": [
    "비지도학습\n",
    "- 학습 데이터만 가져오기 때문에 답을 모른채 데이터의 특성을 파악해서 학습"
   ]
  },
  {
   "cell_type": "code",
   "execution_count": null,
   "metadata": {
    "colab": {
     "base_uri": "https://localhost:8080/",
     "height": 1000
    },
    "id": "lhdseHAh2W4P",
    "outputId": "a4cf2b8b-d67f-42ed-8237-ccc782ad930a"
   },
   "outputs": [
    {
     "name": "stdout",
     "output_type": "stream",
     "text": [
      "1875/1875 [==============================] - 3s 2ms/step - loss: 0.0933\n",
      "Epoch 19/50\n",
      "1875/1875 [==============================] - 3s 2ms/step - loss: 0.0932\n",
      "Epoch 20/50\n",
      "1875/1875 [==============================] - 3s 2ms/step - loss: 0.0932\n",
      "Epoch 21/50\n",
      "1875/1875 [==============================] - 3s 2ms/step - loss: 0.0932\n",
      "Epoch 22/50\n",
      "1875/1875 [==============================] - 3s 2ms/step - loss: 0.0931\n",
      "Epoch 23/50\n",
      "1875/1875 [==============================] - 3s 2ms/step - loss: 0.0931\n",
      "Epoch 24/50\n",
      "1875/1875 [==============================] - 3s 2ms/step - loss: 0.0931\n",
      "Epoch 25/50\n",
      "1875/1875 [==============================] - 3s 2ms/step - loss: 0.0930\n",
      "Epoch 26/50\n",
      "1875/1875 [==============================] - 3s 2ms/step - loss: 0.0930\n",
      "Epoch 27/50\n",
      "1875/1875 [==============================] - 3s 2ms/step - loss: 0.0930\n",
      "Epoch 28/50\n",
      "1875/1875 [==============================] - 3s 2ms/step - loss: 0.0930\n",
      "Epoch 29/50\n",
      "1875/1875 [==============================] - 3s 2ms/step - loss: 0.0930\n",
      "Epoch 30/50\n",
      "1875/1875 [==============================] - 3s 2ms/step - loss: 0.0929\n",
      "Epoch 31/50\n",
      "1875/1875 [==============================] - 3s 2ms/step - loss: 0.0929\n",
      "Epoch 32/50\n",
      "1875/1875 [==============================] - 3s 2ms/step - loss: 0.0929\n",
      "Epoch 33/50\n",
      "1875/1875 [==============================] - 3s 2ms/step - loss: 0.0929\n",
      "Epoch 34/50\n",
      "1875/1875 [==============================] - 3s 2ms/step - loss: 0.0928\n",
      "Epoch 35/50\n",
      "1875/1875 [==============================] - 3s 2ms/step - loss: 0.0928\n",
      "Epoch 36/50\n",
      "1875/1875 [==============================] - 3s 2ms/step - loss: 0.0928\n",
      "Epoch 37/50\n",
      "1875/1875 [==============================] - 3s 2ms/step - loss: 0.0928\n",
      "Epoch 38/50\n",
      "1875/1875 [==============================] - 3s 2ms/step - loss: 0.0928\n",
      "Epoch 39/50\n",
      "1875/1875 [==============================] - 3s 2ms/step - loss: 0.0927\n",
      "Epoch 40/50\n",
      "1875/1875 [==============================] - 3s 2ms/step - loss: 0.0927\n",
      "Epoch 41/50\n",
      "1875/1875 [==============================] - 3s 2ms/step - loss: 0.0927\n",
      "Epoch 42/50\n",
      "1875/1875 [==============================] - 3s 2ms/step - loss: 0.0927\n",
      "Epoch 43/50\n",
      "1875/1875 [==============================] - 3s 2ms/step - loss: 0.0927\n",
      "Epoch 44/50\n",
      "1875/1875 [==============================] - 3s 2ms/step - loss: 0.0927\n",
      "Epoch 45/50\n",
      "1875/1875 [==============================] - 3s 2ms/step - loss: 0.0926\n",
      "Epoch 46/50\n",
      "1875/1875 [==============================] - 3s 2ms/step - loss: 0.0926\n",
      "Epoch 47/50\n",
      "1875/1875 [==============================] - 3s 2ms/step - loss: 0.0926\n",
      "Epoch 48/50\n",
      "1875/1875 [==============================] - 3s 2ms/step - loss: 0.0926\n",
      "Epoch 49/50\n",
      "1875/1875 [==============================] - 3s 2ms/step - loss: 0.0926\n",
      "Epoch 50/50\n",
      "1875/1875 [==============================] - 3s 2ms/step - loss: 0.0926\n"
     ]
    },
    {
     "data": {
      "text/plain": [
       "<tensorflow.python.keras.callbacks.History at 0x7f51600655c0>"
      ]
     },
     "execution_count": 6,
     "metadata": {
      "tags": []
     },
     "output_type": "execute_result"
    }
   ],
   "source": [
    "autoencoder.fit(X_train,X_train, epochs=50 )"
   ]
  },
  {
   "cell_type": "code",
   "execution_count": null,
   "metadata": {
    "colab": {
     "base_uri": "https://localhost:8080/",
     "height": 282
    },
    "id": "s_6xgSje3Bdt",
    "outputId": "109b3af0-fdd4-497e-f019-030f9b8a5921"
   },
   "outputs": [
    {
     "data": {
      "text/plain": [
       "<matplotlib.image.AxesImage at 0x7f2921292240>"
      ]
     },
     "execution_count": 13,
     "metadata": {
      "tags": []
     },
     "output_type": "execute_result"
    },
    {
     "data": {
      "image/png": "[encoded data removed]",
      "text/plain": [
       "<Figure size 432x288 with 1 Axes>"
      ]
     },
     "metadata": {
      "needs_background": "light",
      "tags": []
     },
     "output_type": "display_data"
    }
   ],
   "source": [
    "import matplotlib.pyplot as plt\n",
    "plt.imshow(X_test[0].reshape(28,28), cmap='gray')  #7"
   ]
  },
  {
   "cell_type": "code",
   "execution_count": null,
   "metadata": {
    "colab": {
     "base_uri": "https://localhost:8080/",
     "height": 34
    },
    "id": "IRWdVR1E3gwb",
    "outputId": "3f53f826-7a85-41a6-b954-df3de70f05e9"
   },
   "outputs": [
    {
     "data": {
      "text/plain": [
       "<tf.Tensor 'dense/Relu:0' shape=(None, 32) dtype=float32>"
      ]
     },
     "execution_count": 15,
     "metadata": {
      "tags": []
     },
     "output_type": "execute_result"
    }
   ],
   "source": [
    "encoder #값 집어넣은 결과가 나"
   ]
  },
  {
   "cell_type": "code",
   "execution_count": null,
   "metadata": {
    "colab": {
     "base_uri": "https://localhost:8080/",
     "height": 68
    },
    "id": "3_8qvfod37QT",
    "outputId": "36debe1b-0c65-45fb-8bfd-fd73583462f4"
   },
   "outputs": [
    {
     "data": {
      "text/plain": [
       "[<tensorflow.python.keras.engine.input_layer.InputLayer at 0x7f29aec716d8>,\n",
       " <tensorflow.python.keras.layers.core.Dense at 0x7f29ae413ef0>,\n",
       " <tensorflow.python.keras.layers.core.Dense at 0x7f29ae415278>]"
      ]
     },
     "execution_count": 20,
     "metadata": {
      "tags": []
     },
     "output_type": "execute_result"
    }
   ],
   "source": [
    "autoencoder.layers"
   ]
  },
  {
   "cell_type": "code",
   "execution_count": null,
   "metadata": {
    "id": "uaJTqWjt3yeG"
   },
   "outputs": [],
   "source": [
    "encoder_layer=autoencoder.layers[1]"
   ]
  },
  {
   "cell_type": "code",
   "execution_count": null,
   "metadata": {
    "id": "pV1SKddM4Dfy"
   },
   "outputs": [],
   "source": [
    "import numpy as np\n",
    "import matplotlib.pyplot as plt\n"
   ]
  },
  {
   "cell_type": "code",
   "execution_count": null,
   "metadata": {
    "colab": {
     "base_uri": "https://localhost:8080/",
     "height": 275
    },
    "id": "_xmg-GC74BAY",
    "outputId": "da997b5b-9130-4a4b-a2d7-fb9fc8bdd4e6"
   },
   "outputs": [
    {
     "name": "stdout",
     "output_type": "stream",
     "text": [
      "WARNING:tensorflow:Layer dense is casting an input tensor from dtype float64 to the layer's dtype of float32, which is new behavior in TensorFlow 2.  The layer has dtype float32 because its dtype defaults to floatx.\n",
      "\n",
      "If you intended to run this layer in float32, you can safely ignore this warning. If in doubt, this warning is likely only an issue if you are porting a TensorFlow 1.X model to TensorFlow 2.\n",
      "\n",
      "To change all layers to have dtype float64 by default, call `tf.keras.backend.set_floatx('float64')`. To change just this layer, pass dtype='float64' to the layer constructor. If you are the author of this layer, you can disable autocasting by passing autocast=False to the base Layer constructor.\n",
      "\n"
     ]
    },
    {
     "data": {
      "text/plain": [
       "<tf.Tensor: shape=(1, 32), dtype=float32, numpy=\n",
       "array([[ 2.6179209,  2.1377892,  2.490064 ,  2.1973882,  2.224336 ,\n",
       "         4.3398767,  6.9200664,  3.553017 ,  5.179223 ,  5.0457563,\n",
       "         3.2428064,  4.848373 ,  2.6884372,  1.5765097,  0.       ,\n",
       "         9.188747 ,  6.350508 ,  4.495895 ,  3.0211644,  1.7274741,\n",
       "        10.259258 ,  3.8496256,  6.779485 ,  1.8269283,  4.6687164,\n",
       "         2.3931072,  3.1057854,  2.012877 ,  7.0773144,  1.0926512,\n",
       "         9.171673 ,  3.356864 ]], dtype=float32)>"
      ]
     },
     "execution_count": 27,
     "metadata": {
      "tags": []
     },
     "output_type": "execute_result"
    }
   ],
   "source": [
    "encoder_layer(X_test[0][np.newaxis])#이미지 압축"
   ]
  },
  {
   "cell_type": "code",
   "execution_count": null,
   "metadata": {
    "colab": {
     "base_uri": "https://localhost:8080/",
     "height": 1000
    },
    "id": "DQynMqGt4Iod",
    "outputId": "970c563c-2c1a-4387-b385-34686835cab1"
   },
   "outputs": [
    {
     "data": {
      "text/plain": [
       "<tf.Tensor: shape=(1, 784), dtype=float32, numpy=\n",
       "array([[2.76805051e-10, 1.37503106e-10, 3.45733553e-10, 4.15393331e-10,\n",
       "        2.09277665e-10, 2.54541666e-10, 2.97877278e-10, 1.45800941e-10,\n",
       "        1.25821853e-10, 4.75729733e-10, 9.94757818e-11, 2.86162705e-10,\n",
       "        6.99191371e-10, 1.13322962e-09, 2.04883896e-12, 5.31125734e-11,\n",
       "        3.33358036e-10, 5.04681540e-11, 1.12346500e-10, 2.64087918e-10,\n",
       "        1.71906614e-10, 1.85801985e-10, 2.83735480e-10, 3.12902981e-10,\n",
       "        3.31505962e-10, 8.50669882e-11, 4.07245515e-10, 1.68602521e-10,\n",
       "        2.35631792e-10, 1.96553537e-10, 1.09004451e-10, 6.87689961e-10,\n",
       "        3.37009066e-14, 1.00129120e-13, 2.70393166e-08, 1.07300835e-09,\n",
       "        3.41410372e-11, 7.93828284e-12, 8.39399383e-10, 1.49606656e-08,\n",
       "        3.50491192e-08, 1.40046396e-07, 2.11501758e-12, 9.33784978e-14,\n",
       "        4.35386189e-12, 1.84675174e-11, 4.06383781e-12, 2.02079456e-12,\n",
       "        9.76603243e-10, 5.59398083e-11, 7.62942973e-11, 1.05395781e-09,\n",
       "        1.56669400e-10, 2.79463896e-10, 2.20997845e-10, 7.51827003e-11,\n",
       "        1.85815086e-10, 1.61666347e-10, 1.02339773e-12, 5.14606302e-10,\n",
       "        1.60203101e-10, 3.43222539e-09, 4.65228273e-10, 5.60762032e-08,\n",
       "        3.69921409e-08, 4.51301531e-07, 1.99649207e-06, 2.31973490e-06,\n",
       "        8.24024173e-05, 1.58005641e-04, 8.79378561e-08, 3.19206208e-08,\n",
       "        3.63804489e-08, 5.24260801e-10, 7.95341570e-10, 2.95506908e-09,\n",
       "        4.17749196e-10, 6.05960377e-13, 5.77829885e-13, 1.02998773e-11,\n",
       "        1.63180931e-14, 1.08124848e-17, 3.29097471e-10, 1.81663767e-10,\n",
       "        4.92729468e-10, 5.41482692e-10, 3.42769931e-12, 1.13015386e-09,\n",
       "        3.44634898e-09, 3.91747612e-08, 7.76039926e-08, 7.25683321e-07,\n",
       "        8.06323612e-07, 9.71780082e-07, 1.90743299e-06, 6.58811450e-06,\n",
       "        5.46366173e-05, 9.84289509e-05, 1.39789463e-05, 3.52414827e-06,\n",
       "        5.97061330e-07, 6.57234239e-07, 2.73348951e-06, 6.19166713e-06,\n",
       "        4.94136930e-06, 4.66347274e-07, 7.08106143e-08, 2.21235492e-08,\n",
       "        6.88559165e-09, 2.95424752e-12, 1.12905263e-13, 1.32328551e-10,\n",
       "        1.40598602e-10, 2.56143640e-09, 2.56246348e-12, 8.21697824e-07,\n",
       "        3.11238495e-07, 2.14140618e-06, 8.50954109e-07, 3.26976601e-06,\n",
       "        5.37783262e-06, 7.90507056e-06, 1.49689849e-05, 3.03779252e-05,\n",
       "        6.34804092e-05, 2.62177564e-05, 4.91199944e-06, 9.80037271e-07,\n",
       "        5.29580291e-07, 1.38430278e-06, 6.30456225e-06, 1.69352170e-05,\n",
       "        1.45078493e-05, 1.08039403e-05, 6.52305198e-06, 7.92310061e-07,\n",
       "        6.45276828e-08, 1.76623927e-09, 9.71742062e-11, 1.41048171e-11,\n",
       "        1.30866221e-10, 1.11383791e-10, 3.34541039e-09, 5.11945746e-06,\n",
       "        1.65246308e-06, 8.14626947e-06, 3.93159171e-05, 1.80663032e-04,\n",
       "        4.75596986e-04, 4.02181468e-04, 2.15499371e-04, 1.56197581e-04,\n",
       "        5.29826393e-05, 7.84942767e-06, 1.11696738e-06, 5.22026198e-07,\n",
       "        9.33255876e-07, 4.39485893e-06, 2.19577414e-05, 5.89682277e-05,\n",
       "        1.03225684e-04, 1.23960897e-04, 7.97409593e-05, 1.62157939e-05,\n",
       "        2.73764272e-06, 1.01350054e-06, 2.36046230e-06, 1.99223358e-08,\n",
       "        7.96466018e-11, 8.28335374e-08, 4.56057842e-06, 2.83004174e-05,\n",
       "        7.61725649e-04, 4.33031376e-03, 8.54217820e-03, 1.75693352e-02,\n",
       "        3.08018010e-02, 3.19008864e-02, 2.48966422e-02, 7.13090925e-03,\n",
       "        1.53213483e-03, 2.73837068e-04, 1.19631550e-04, 1.17109812e-04,\n",
       "        1.93669664e-04, 3.51600640e-04, 7.65491102e-04, 1.58924854e-03,\n",
       "        1.81626785e-03, 1.39943161e-03, 4.84267570e-04, 1.19370816e-04,\n",
       "        1.10938117e-05, 6.26106203e-06, 3.80989081e-06, 6.31745024e-07,\n",
       "        7.84925419e-07, 2.88518146e-04, 5.08745608e-04, 5.48201706e-03,\n",
       "        1.75858438e-02, 8.71037692e-02, 1.65827870e-01, 2.62646973e-01,\n",
       "        3.30977857e-01, 4.67580885e-01, 3.90061766e-01, 2.58882493e-01,\n",
       "        1.34880692e-01, 8.92318338e-02, 1.07876480e-01, 1.50475442e-01,\n",
       "        1.20713681e-01, 1.01759508e-01, 9.10604075e-02, 1.25998631e-01,\n",
       "        1.29067957e-01, 5.19664660e-02, 7.77652441e-03, 6.97830867e-04,\n",
       "        7.08442167e-05, 1.39802796e-05, 3.13643056e-07, 1.96558244e-06,\n",
       "        9.07362755e-06, 1.62134459e-03, 2.08032597e-03, 5.62645122e-03,\n",
       "        3.53129245e-02, 2.03131184e-01, 3.11251730e-01, 4.97195095e-01,\n",
       "        7.09223926e-01, 7.91160762e-01, 7.86379099e-01, 7.50278533e-01,\n",
       "        7.24424779e-01, 7.43693709e-01, 8.89197648e-01, 9.10202384e-01,\n",
       "        8.04016113e-01, 6.95206940e-01, 6.74510121e-01, 7.45223165e-01,\n",
       "        6.53927088e-01, 2.25212812e-01, 2.44070869e-02, 1.16738386e-03,\n",
       "        1.27517109e-04, 2.21927639e-05, 2.12245118e-06, 3.34795095e-06,\n",
       "        1.33863205e-06, 3.77316785e-04, 2.21234956e-03, 4.44669090e-03,\n",
       "        1.45919956e-02, 1.30024940e-01, 2.23098382e-01, 3.59478980e-01,\n",
       "        5.53370237e-01, 6.39296770e-01, 6.53169513e-01, 6.70916915e-01,\n",
       "        6.72195554e-01, 8.20976138e-01, 9.29496288e-01, 9.13036644e-01,\n",
       "        7.67500877e-01, 5.68267047e-01, 7.82910883e-01, 9.29163516e-01,\n",
       "        8.85457814e-01, 3.59165132e-01, 2.35729832e-02, 1.38260645e-03,\n",
       "        1.76069792e-04, 9.06519417e-05, 9.83087193e-06, 5.47832242e-05,\n",
       "        2.67318256e-07, 6.16750112e-05, 5.01456962e-04, 1.94917934e-03,\n",
       "        5.73656661e-03, 2.73217112e-02, 5.21518178e-02, 7.36720562e-02,\n",
       "        9.02139917e-02, 1.04098268e-01, 9.76201147e-02, 8.87717977e-02,\n",
       "        1.44684210e-01, 3.50328296e-01, 4.88033921e-01, 2.71663457e-01,\n",
       "        6.68551922e-02, 8.76085609e-02, 6.19340301e-01, 9.59196627e-01,\n",
       "        9.21171129e-01, 3.82261097e-01, 1.86461210e-02, 1.14737044e-03,\n",
       "        2.43018440e-04, 2.53444712e-04, 6.13285283e-06, 3.63995440e-07,\n",
       "        8.13068795e-08, 1.43899679e-05, 1.68808177e-03, 9.30905691e-04,\n",
       "        3.33875674e-03, 7.87735544e-03, 6.99503254e-03, 7.87482131e-03,\n",
       "        6.30050292e-03, 4.63027181e-03, 2.98945722e-03, 3.79336183e-03,\n",
       "        1.13530895e-02, 4.27233018e-02, 3.17603908e-02, 5.56266913e-03,\n",
       "        2.74275662e-03, 3.55269536e-02, 7.34522521e-01, 9.61785197e-01,\n",
       "        8.76769304e-01, 2.02050418e-01, 9.24958568e-03, 8.43363639e-04,\n",
       "        3.90316913e-04, 5.49294869e-04, 8.29880082e-05, 1.47884336e-07,\n",
       "        9.47486048e-11, 7.04618003e-07, 6.72089402e-03, 2.48063006e-03,\n",
       "        4.64358926e-03, 6.00639358e-03, 2.56316061e-03, 1.66619592e-03,\n",
       "        7.94742140e-04, 6.00433908e-04, 5.86201146e-04, 1.20725646e-03,\n",
       "        4.12725564e-03, 8.16687942e-03, 4.08427231e-03, 8.85445392e-04,\n",
       "        2.40953406e-03, 1.42825723e-01, 9.04983044e-01, 9.50893044e-01,\n",
       "        6.08605146e-01, 3.91609482e-02, 2.17027194e-03, 6.35078351e-04,\n",
       "        2.77803891e-04, 2.84316975e-05, 7.53336508e-07, 2.45819933e-08,\n",
       "        5.14122833e-09, 2.45522569e-05, 1.88664079e-03, 3.68274748e-03,\n",
       "        6.58125523e-03, 5.24118543e-03, 1.39168533e-03, 7.51091982e-04,\n",
       "        5.25470648e-04, 5.47167030e-04, 1.04651728e-03, 2.18157237e-03,\n",
       "        3.82519932e-03, 2.90294923e-03, 8.28337157e-04, 1.07625569e-03,\n",
       "        1.46267517e-02, 6.02843463e-01, 9.49117064e-01, 8.73157740e-01,\n",
       "        1.72128379e-01, 5.89606119e-03, 5.38120279e-04, 5.61970228e-04,\n",
       "        3.40590370e-04, 1.00645502e-05, 7.17999569e-07, 3.98999389e-10,\n",
       "        4.64226879e-09, 2.98258556e-07, 2.44434814e-05, 1.01396849e-03,\n",
       "        2.36467225e-03, 2.80329725e-03, 1.00418867e-03, 7.23040954e-04,\n",
       "        9.62771010e-04, 1.77633413e-03, 5.46874804e-03, 9.20115970e-03,\n",
       "        5.22158202e-03, 1.38876145e-03, 1.10372889e-03, 4.34273249e-03,\n",
       "        1.17546566e-01, 8.83207560e-01, 9.21075225e-01, 4.36151206e-01,\n",
       "        1.55907506e-02, 8.46927112e-04, 2.84684822e-04, 4.43489553e-04,\n",
       "        2.88088253e-04, 8.55249345e-06, 3.01557757e-09, 1.93754995e-12,\n",
       "        5.88136757e-08, 2.04494977e-09, 9.17080033e-05, 1.35977461e-04,\n",
       "        9.09006572e-04, 1.14176795e-03, 8.19820445e-04, 1.00254733e-03,\n",
       "        2.75842380e-03, 9.11816396e-03, 2.54135989e-02, 3.10245305e-02,\n",
       "        6.34836545e-03, 1.82996597e-03, 3.31921456e-03, 3.22262309e-02,\n",
       "        5.58469713e-01, 9.28598106e-01, 7.10608244e-01, 6.79613352e-02,\n",
       "        1.83952751e-03, 2.61809153e-04, 2.20768561e-04, 4.46533842e-04,\n",
       "        3.38643353e-04, 4.37238077e-06, 6.35712709e-08, 2.08902669e-11,\n",
       "        3.50007356e-09, 3.06752881e-08, 1.66811776e-06, 1.36798350e-04,\n",
       "        2.49106844e-04, 4.91629529e-04, 6.62435021e-04, 1.15476840e-03,\n",
       "        4.93605481e-03, 1.87041685e-02, 3.25247794e-02, 1.48159387e-02,\n",
       "        2.74876552e-03, 2.47018621e-03, 1.36597138e-02, 2.65974522e-01,\n",
       "        8.95884752e-01, 9.05066609e-01, 2.68718511e-01, 7.50059588e-03,\n",
       "        5.22357062e-04, 2.52175436e-04, 4.20816825e-04, 7.98912661e-04,\n",
       "        2.46839074e-04, 6.41519500e-06, 3.86267175e-06, 1.67793281e-08,\n",
       "        4.19769164e-10, 4.87377974e-07, 2.00747763e-06, 1.46710678e-04,\n",
       "        8.81503001e-05, 2.01611489e-04, 3.55238240e-04, 8.09861638e-04,\n",
       "        2.42684712e-03, 4.26113931e-03, 4.93943132e-03, 1.59427722e-03,\n",
       "        8.77029379e-04, 4.71829996e-03, 8.96468908e-02, 7.82789409e-01,\n",
       "        9.42139745e-01, 6.86881959e-01, 4.53765169e-02, 1.78426900e-03,\n",
       "        2.89801188e-04, 3.21185362e-04, 6.16731995e-04, 1.03012484e-03,\n",
       "        6.71723916e-04, 1.25023827e-04, 8.73493354e-06, 7.90375850e-07,\n",
       "        3.58071730e-07, 1.33834959e-07, 3.34384458e-05, 9.65421932e-05,\n",
       "        6.37767516e-05, 1.14905757e-04, 1.18732140e-04, 1.88602949e-04,\n",
       "        2.91523436e-04, 4.11048328e-04, 3.47355410e-04, 2.58944347e-04,\n",
       "        9.71613044e-04, 2.30213124e-02, 4.43817079e-01, 9.05680180e-01,\n",
       "        8.81542921e-01, 2.79638916e-01, 1.01277148e-02, 4.09253291e-04,\n",
       "        1.08845408e-04, 2.12272571e-04, 6.85935724e-04, 1.30287826e-03,\n",
       "        1.00965193e-03, 2.68607517e-04, 8.33697555e-08, 7.10260935e-08,\n",
       "        2.43239422e-11, 1.94543420e-04, 2.22828312e-05, 6.96973511e-05,\n",
       "        5.87411960e-05, 6.67428103e-05, 2.89082382e-05, 3.09799543e-05,\n",
       "        4.68147700e-05, 6.05304631e-05, 8.74234320e-05, 4.25699080e-04,\n",
       "        6.84676040e-03, 1.64961308e-01, 7.95318902e-01, 9.09164667e-01,\n",
       "        6.26487613e-01, 3.70133072e-02, 1.42306823e-03, 6.34830067e-05,\n",
       "        1.92078151e-05, 1.00247184e-04, 5.12503320e-04, 1.08273851e-03,\n",
       "        1.06646784e-03, 1.22803685e-04, 6.87410022e-08, 7.74701547e-08,\n",
       "        1.74994158e-10, 2.18190344e-05, 4.07846346e-06, 3.30204130e-05,\n",
       "        4.78615038e-05, 5.54395810e-05, 1.51548229e-05, 8.20859623e-06,\n",
       "        2.16578483e-05, 3.27032030e-05, 1.44928141e-04, 2.48950953e-03,\n",
       "        5.78069389e-02, 6.63926959e-01, 9.19837117e-01, 8.39701355e-01,\n",
       "        1.27655059e-01, 2.33457400e-03, 7.52864653e-05, 5.72212184e-06,\n",
       "        4.81236020e-06, 2.95177724e-05, 1.43553450e-04, 3.64916224e-04,\n",
       "        2.10577244e-04, 4.80568815e-05, 9.77544005e-07, 9.15042694e-11,\n",
       "        3.78728854e-10, 1.05799899e-07, 1.45612455e-06, 3.23695931e-05,\n",
       "        3.42479434e-05, 3.92155271e-05, 1.83282245e-05, 1.12321732e-05,\n",
       "        1.73675307e-05, 8.72893143e-05, 1.56458258e-03, 2.52048038e-02,\n",
       "        4.46752548e-01, 9.25358832e-01, 9.20482039e-01, 4.52279061e-01,\n",
       "        7.55223958e-03, 1.23668447e-04, 8.02930390e-06, 2.24871815e-06,\n",
       "        3.81056680e-06, 1.37811130e-05, 4.04797647e-05, 7.17442745e-05,\n",
       "        3.11314434e-05, 5.44798468e-06, 3.02110948e-07, 2.39743257e-13,\n",
       "        6.88347435e-10, 3.25658469e-08, 1.17635398e-06, 2.32594775e-05,\n",
       "        2.76441970e-05, 2.42323895e-05, 2.31574686e-05, 1.95266693e-05,\n",
       "        3.93132941e-05, 3.55471653e-04, 8.89721885e-03, 2.17395574e-01,\n",
       "        8.48114550e-01, 9.56403017e-01, 7.72288382e-01, 5.19832894e-02,\n",
       "        4.21962497e-04, 1.62068118e-05, 7.07476875e-06, 6.58607223e-06,\n",
       "        7.93824256e-06, 9.66118841e-06, 1.55487469e-05, 2.20977490e-05,\n",
       "        9.77535910e-06, 4.06069194e-06, 4.01501321e-09, 1.21762518e-13,\n",
       "        3.99077021e-10, 4.33987957e-10, 1.93622759e-06, 3.84315308e-06,\n",
       "        3.75746531e-05, 3.64916232e-05, 3.82300968e-05, 4.48650972e-05,\n",
       "        1.46067745e-04, 1.27323251e-03, 2.92077530e-02, 5.92496634e-01,\n",
       "        9.36785817e-01, 9.26259816e-01, 3.87711555e-01, 7.33478786e-03,\n",
       "        9.94344155e-05, 1.36540875e-05, 2.31611994e-05, 4.91851533e-05,\n",
       "        4.19017924e-05, 9.74815703e-06, 5.99709119e-06, 3.05769609e-05,\n",
       "        1.64237681e-05, 9.23998596e-06, 6.02512443e-07, 3.82509718e-10,\n",
       "        8.48612236e-10, 2.15594514e-10, 1.20551050e-07, 1.76892763e-06,\n",
       "        3.77631404e-05, 5.77592364e-05, 1.42586228e-04, 3.33016098e-04,\n",
       "        1.35107711e-03, 1.44661888e-02, 2.80500680e-01, 8.85556996e-01,\n",
       "        9.56954539e-01, 8.41874123e-01, 2.14368209e-01, 6.49754610e-03,\n",
       "        1.51808345e-04, 1.27055682e-05, 3.76381322e-05, 4.87123849e-04,\n",
       "        4.44976147e-04, 9.86310479e-05, 1.49953758e-05, 1.44028045e-05,\n",
       "        6.06061913e-05, 5.04910313e-05, 1.26023254e-08, 2.09577633e-10,\n",
       "        5.40618661e-11, 1.08210031e-10, 2.36492360e-06, 2.04135231e-05,\n",
       "        8.86154012e-04, 3.88858397e-03, 7.27051403e-03, 6.96232822e-03,\n",
       "        1.09561207e-02, 1.06661491e-01, 8.20540369e-01, 9.91134763e-01,\n",
       "        9.86884952e-01, 7.78341293e-01, 1.20231062e-01, 2.04339065e-02,\n",
       "        4.78784903e-04, 6.10556526e-06, 5.36032640e-05, 1.93860987e-03,\n",
       "        5.30083105e-03, 2.04505355e-04, 3.65907581e-05, 7.71764462e-06,\n",
       "        4.97350702e-05, 6.86114490e-08, 4.21051360e-10, 2.26600974e-10,\n",
       "        1.94489036e-10, 1.54864888e-09, 9.62678687e-11, 1.32598097e-06,\n",
       "        5.02744550e-03, 1.82463676e-02, 1.89849325e-02, 1.80711932e-02,\n",
       "        3.17330621e-02, 1.82160258e-01, 8.45147014e-01, 9.90573466e-01,\n",
       "        9.57390070e-01, 3.27762812e-01, 2.04176996e-02, 1.24541679e-02,\n",
       "        6.39728038e-04, 1.15788289e-05, 2.29774796e-05, 2.40025856e-03,\n",
       "        3.41954157e-02, 3.21532274e-03, 6.98988297e-05, 1.33162521e-05,\n",
       "        3.06008943e-08, 3.14041728e-07, 1.68966632e-10, 1.52198879e-10,\n",
       "        3.22458338e-10, 3.97617467e-10, 2.90029473e-10, 2.93617297e-10,\n",
       "        1.18003790e-07, 9.71977556e-07, 1.51076078e-04, 1.50549022e-04,\n",
       "        8.82776585e-05, 7.81008101e-04, 6.32937206e-03, 1.72593016e-02,\n",
       "        7.93816335e-03, 2.94827536e-04, 8.48523705e-05, 3.76210868e-04,\n",
       "        5.69628573e-05, 8.84851588e-08, 2.44123441e-07, 1.07480873e-05,\n",
       "        2.95597129e-05, 1.73050012e-06, 1.04892006e-09, 1.11532120e-11,\n",
       "        8.27208441e-11, 9.54332863e-11, 1.26907401e-10, 1.26339855e-10]],\n",
       "      dtype=float32)>"
      ]
     },
     "execution_count": 28,
     "metadata": {
      "tags": []
     },
     "output_type": "execute_result"
    }
   ],
   "source": [
    "autoencoder(X_test[0][np.newaxis])  #압축된 이미 복원"
   ]
  },
  {
   "cell_type": "code",
   "execution_count": null,
   "metadata": {
    "colab": {
     "base_uri": "https://localhost:8080/",
     "height": 282
    },
    "id": "N6F60WDgLZmm",
    "outputId": "c2e61789-5bf8-4c82-f171-6cb33c147e96"
   },
   "outputs": [
    {
     "data": {
      "text/plain": [
       "<matplotlib.image.AxesImage at 0x7f511206f860>"
      ]
     },
     "execution_count": 19,
     "metadata": {
      "tags": []
     },
     "output_type": "execute_result"
    },
    {
     "data": {
      "image/png": "[encoded data removed]",
      "text/plain": [
       "<Figure size 432x288 with 1 Axes>"
      ]
     },
     "metadata": {
      "needs_background": "light",
      "tags": []
     },
     "output_type": "display_data"
    }
   ],
   "source": [
    "decoder_image=autoencoder(X_test[0][np.newaxis]).numpy()\n",
    "plt.imshow(decoder_image.reshape(28,28),cmap='gray') # 7로 보임"
   ]
  },
  {
   "cell_type": "code",
   "execution_count": null,
   "metadata": {
    "colab": {
     "base_uri": "https://localhost:8080/",
     "height": 282
    },
    "id": "ADsxE1cN4caB",
    "outputId": "907ea40a-7322-45a5-993b-2b736c833f4a"
   },
   "outputs": [
    {
     "data": {
      "text/plain": [
       "<matplotlib.image.AxesImage at 0x7f5112146ac8>"
      ]
     },
     "execution_count": 18,
     "metadata": {
      "tags": []
     },
     "output_type": "execute_result"
    },
    {
     "data": {
      "image/png": "[encoded data removed]",
      "text/plain": [
       "<Figure size 432x288 with 1 Axes>"
      ]
     },
     "metadata": {
      "needs_background": "light",
      "tags": []
     },
     "output_type": "display_data"
    }
   ],
   "source": [
    "decoder_image=autoencoder(X_test[3][np.newaxis]).numpy()\n",
    "plt.imshow(decoder_image.reshape(28,28),cmap='gray') # 0으로 보임"
   ]
  },
  {
   "cell_type": "markdown",
   "metadata": {
    "id": "FdrrJ4Hx7Tus"
   },
   "source": [
    "모델 개선\n",
    " - 텐서플로우에 모델을 레이어처럼 사용 가능\n",
    "모델을 만들면 fit, predict 사용 가능\n",
    "모델로 감싸면 별도로 학습, 예측 가능"
   ]
  },
  {
   "cell_type": "code",
   "execution_count": null,
   "metadata": {
    "colab": {
     "base_uri": "https://localhost:8080/",
     "height": 1000
    },
    "id": "s3LtheXw7wYS",
    "outputId": "1e67885b-892b-47f1-ff8d-2a9a54de0a17"
   },
   "outputs": [
    {
     "data": {
      "text/plain": [
       "['OVERLOADABLE_OPERATORS',\n",
       " '_USE_EQUALITY',\n",
       " '__abs__',\n",
       " '__add__',\n",
       " '__and__',\n",
       " '__array__',\n",
       " '__array_priority__',\n",
       " '__bool__',\n",
       " '__class__',\n",
       " '__copy__',\n",
       " '__delattr__',\n",
       " '__dict__',\n",
       " '__dir__',\n",
       " '__div__',\n",
       " '__doc__',\n",
       " '__eq__',\n",
       " '__floordiv__',\n",
       " '__format__',\n",
       " '__ge__',\n",
       " '__getattribute__',\n",
       " '__getitem__',\n",
       " '__gt__',\n",
       " '__hash__',\n",
       " '__init__',\n",
       " '__init_subclass__',\n",
       " '__invert__',\n",
       " '__iter__',\n",
       " '__le__',\n",
       " '__len__',\n",
       " '__lt__',\n",
       " '__matmul__',\n",
       " '__mod__',\n",
       " '__module__',\n",
       " '__mul__',\n",
       " '__ne__',\n",
       " '__neg__',\n",
       " '__new__',\n",
       " '__nonzero__',\n",
       " '__or__',\n",
       " '__pow__',\n",
       " '__radd__',\n",
       " '__rand__',\n",
       " '__rdiv__',\n",
       " '__reduce__',\n",
       " '__reduce_ex__',\n",
       " '__repr__',\n",
       " '__rfloordiv__',\n",
       " '__rmatmul__',\n",
       " '__rmod__',\n",
       " '__rmul__',\n",
       " '__ror__',\n",
       " '__rpow__',\n",
       " '__rsub__',\n",
       " '__rtruediv__',\n",
       " '__rxor__',\n",
       " '__setattr__',\n",
       " '__sizeof__',\n",
       " '__str__',\n",
       " '__sub__',\n",
       " '__subclasshook__',\n",
       " '__truediv__',\n",
       " '__weakref__',\n",
       " '__xor__',\n",
       " '_as_node_def_input',\n",
       " '_as_tf_output',\n",
       " '_c_api_shape',\n",
       " '_consumers',\n",
       " '_create_with_tf_output',\n",
       " '_disallow_bool_casting',\n",
       " '_disallow_in_graph_mode',\n",
       " '_disallow_iteration',\n",
       " '_disallow_when_autograph_disabled',\n",
       " '_disallow_when_autograph_enabled',\n",
       " '_dtype',\n",
       " '_id',\n",
       " '_keras_history',\n",
       " '_name',\n",
       " '_op',\n",
       " '_override_operator',\n",
       " '_rank',\n",
       " '_shape',\n",
       " '_shape_as_list',\n",
       " '_shape_tuple',\n",
       " '_shape_val',\n",
       " '_tf_api_names',\n",
       " '_tf_api_names_v1',\n",
       " '_tf_output',\n",
       " '_value_index',\n",
       " 'consumers',\n",
       " 'device',\n",
       " 'dtype',\n",
       " 'eval',\n",
       " 'experimental_ref',\n",
       " 'get_shape',\n",
       " 'graph',\n",
       " 'name',\n",
       " 'op',\n",
       " 'ref',\n",
       " 'set_shape',\n",
       " 'shape',\n",
       " 'value_index']"
      ]
     },
     "execution_count": 46,
     "metadata": {
      "tags": []
     },
     "output_type": "execute_result"
    }
   ],
   "source": [
    "dir(decoder) # "
   ]
  },
  {
   "cell_type": "code",
   "execution_count": null,
   "metadata": {
    "colab": {
     "base_uri": "https://localhost:8080/",
     "height": 358
    },
    "id": "cev_U73S7mwO",
    "outputId": "457ad50f-d0c5-4919-ab4e-3fe870d6f37f"
   },
   "outputs": [
    {
     "ename": "ValueError",
     "evalue": "ignored",
     "output_type": "error",
     "traceback": [
      "\u001b[0;31m---------------------------------------------------------------------------\u001b[0m",
      "\u001b[0;31mValueError\u001b[0m                                Traceback (most recent call last)",
      "\u001b[0;32m<ipython-input-45-02fd6560d31e>\u001b[0m in \u001b[0;36m<module>\u001b[0;34m()\u001b[0m\n\u001b[0;32m----> 1\u001b[0;31m \u001b[0mdecoder_model\u001b[0m\u001b[0;34m=\u001b[0m\u001b[0mtf\u001b[0m\u001b[0;34m.\u001b[0m\u001b[0mkeras\u001b[0m\u001b[0;34m.\u001b[0m\u001b[0mmodels\u001b[0m\u001b[0;34m.\u001b[0m\u001b[0mModel\u001b[0m\u001b[0;34m(\u001b[0m\u001b[0mdecoder_inputs\u001b[0m \u001b[0;34m,\u001b[0m\u001b[0mdecoder\u001b[0m\u001b[0;34m)\u001b[0m \u001b[0;31m#\u001b[0m\u001b[0;34m\u001b[0m\u001b[0;34m\u001b[0m\u001b[0m\n\u001b[0m",
      "\u001b[0;32m/usr/local/lib/python3.6/dist-packages/tensorflow/python/keras/engine/training.py\u001b[0m in \u001b[0;36m__new__\u001b[0;34m(cls, *args, **kwargs)\u001b[0m\n\u001b[1;32m    240\u001b[0m       \u001b[0;31m# Functional model\u001b[0m\u001b[0;34m\u001b[0m\u001b[0;34m\u001b[0m\u001b[0;34m\u001b[0m\u001b[0m\n\u001b[1;32m    241\u001b[0m       \u001b[0;32mfrom\u001b[0m \u001b[0mtensorflow\u001b[0m\u001b[0;34m.\u001b[0m\u001b[0mpython\u001b[0m\u001b[0;34m.\u001b[0m\u001b[0mkeras\u001b[0m\u001b[0;34m.\u001b[0m\u001b[0mengine\u001b[0m \u001b[0;32mimport\u001b[0m \u001b[0mfunctional\u001b[0m  \u001b[0;31m# pylint: disable=g-import-not-at-top\u001b[0m\u001b[0;34m\u001b[0m\u001b[0;34m\u001b[0m\u001b[0m\n\u001b[0;32m--> 242\u001b[0;31m       \u001b[0;32mreturn\u001b[0m \u001b[0mfunctional\u001b[0m\u001b[0;34m.\u001b[0m\u001b[0mFunctional\u001b[0m\u001b[0;34m(\u001b[0m\u001b[0;34m*\u001b[0m\u001b[0margs\u001b[0m\u001b[0;34m,\u001b[0m \u001b[0;34m**\u001b[0m\u001b[0mkwargs\u001b[0m\u001b[0;34m)\u001b[0m\u001b[0;34m\u001b[0m\u001b[0;34m\u001b[0m\u001b[0m\n\u001b[0m\u001b[1;32m    243\u001b[0m     \u001b[0;32melse\u001b[0m\u001b[0;34m:\u001b[0m\u001b[0;34m\u001b[0m\u001b[0;34m\u001b[0m\u001b[0m\n\u001b[1;32m    244\u001b[0m       \u001b[0;32mreturn\u001b[0m \u001b[0msuper\u001b[0m\u001b[0;34m(\u001b[0m\u001b[0mModel\u001b[0m\u001b[0;34m,\u001b[0m \u001b[0mcls\u001b[0m\u001b[0;34m)\u001b[0m\u001b[0;34m.\u001b[0m\u001b[0m__new__\u001b[0m\u001b[0;34m(\u001b[0m\u001b[0mcls\u001b[0m\u001b[0;34m,\u001b[0m \u001b[0;34m*\u001b[0m\u001b[0margs\u001b[0m\u001b[0;34m,\u001b[0m \u001b[0;34m**\u001b[0m\u001b[0mkwargs\u001b[0m\u001b[0;34m)\u001b[0m\u001b[0;34m\u001b[0m\u001b[0;34m\u001b[0m\u001b[0m\n",
      "\u001b[0;32m/usr/local/lib/python3.6/dist-packages/tensorflow/python/training/tracking/base.py\u001b[0m in \u001b[0;36m_method_wrapper\u001b[0;34m(self, *args, **kwargs)\u001b[0m\n\u001b[1;32m    455\u001b[0m     \u001b[0mself\u001b[0m\u001b[0;34m.\u001b[0m\u001b[0m_self_setattr_tracking\u001b[0m \u001b[0;34m=\u001b[0m \u001b[0;32mFalse\u001b[0m  \u001b[0;31m# pylint: disable=protected-access\u001b[0m\u001b[0;34m\u001b[0m\u001b[0;34m\u001b[0m\u001b[0m\n\u001b[1;32m    456\u001b[0m     \u001b[0;32mtry\u001b[0m\u001b[0;34m:\u001b[0m\u001b[0;34m\u001b[0m\u001b[0;34m\u001b[0m\u001b[0m\n\u001b[0;32m--> 457\u001b[0;31m       \u001b[0mresult\u001b[0m \u001b[0;34m=\u001b[0m \u001b[0mmethod\u001b[0m\u001b[0;34m(\u001b[0m\u001b[0mself\u001b[0m\u001b[0;34m,\u001b[0m \u001b[0;34m*\u001b[0m\u001b[0margs\u001b[0m\u001b[0;34m,\u001b[0m \u001b[0;34m**\u001b[0m\u001b[0mkwargs\u001b[0m\u001b[0;34m)\u001b[0m\u001b[0;34m\u001b[0m\u001b[0;34m\u001b[0m\u001b[0m\n\u001b[0m\u001b[1;32m    458\u001b[0m     \u001b[0;32mfinally\u001b[0m\u001b[0;34m:\u001b[0m\u001b[0;34m\u001b[0m\u001b[0;34m\u001b[0m\u001b[0m\n\u001b[1;32m    459\u001b[0m       \u001b[0mself\u001b[0m\u001b[0;34m.\u001b[0m\u001b[0m_self_setattr_tracking\u001b[0m \u001b[0;34m=\u001b[0m \u001b[0mprevious_value\u001b[0m  \u001b[0;31m# pylint: disable=protected-access\u001b[0m\u001b[0;34m\u001b[0m\u001b[0;34m\u001b[0m\u001b[0m\n",
      "\u001b[0;32m/usr/local/lib/python3.6/dist-packages/tensorflow/python/keras/engine/functional.py\u001b[0m in \u001b[0;36m__init__\u001b[0;34m(self, inputs, outputs, name, trainable)\u001b[0m\n\u001b[1;32m    113\u001b[0m     \u001b[0;31m#     'arguments during initialization. Got an unexpected argument:')\u001b[0m\u001b[0;34m\u001b[0m\u001b[0;34m\u001b[0m\u001b[0;34m\u001b[0m\u001b[0m\n\u001b[1;32m    114\u001b[0m     \u001b[0msuper\u001b[0m\u001b[0;34m(\u001b[0m\u001b[0mFunctional\u001b[0m\u001b[0;34m,\u001b[0m \u001b[0mself\u001b[0m\u001b[0;34m)\u001b[0m\u001b[0;34m.\u001b[0m\u001b[0m__init__\u001b[0m\u001b[0;34m(\u001b[0m\u001b[0mname\u001b[0m\u001b[0;34m=\u001b[0m\u001b[0mname\u001b[0m\u001b[0;34m,\u001b[0m \u001b[0mtrainable\u001b[0m\u001b[0;34m=\u001b[0m\u001b[0mtrainable\u001b[0m\u001b[0;34m)\u001b[0m\u001b[0;34m\u001b[0m\u001b[0;34m\u001b[0m\u001b[0m\n\u001b[0;32m--> 115\u001b[0;31m     \u001b[0mself\u001b[0m\u001b[0;34m.\u001b[0m\u001b[0m_init_graph_network\u001b[0m\u001b[0;34m(\u001b[0m\u001b[0minputs\u001b[0m\u001b[0;34m,\u001b[0m \u001b[0moutputs\u001b[0m\u001b[0;34m)\u001b[0m\u001b[0;34m\u001b[0m\u001b[0;34m\u001b[0m\u001b[0m\n\u001b[0m\u001b[1;32m    116\u001b[0m \u001b[0;34m\u001b[0m\u001b[0m\n\u001b[1;32m    117\u001b[0m   \u001b[0;34m@\u001b[0m\u001b[0mtrackable\u001b[0m\u001b[0;34m.\u001b[0m\u001b[0mno_automatic_dependency_tracking\u001b[0m\u001b[0;34m\u001b[0m\u001b[0;34m\u001b[0m\u001b[0m\n",
      "\u001b[0;32m/usr/local/lib/python3.6/dist-packages/tensorflow/python/training/tracking/base.py\u001b[0m in \u001b[0;36m_method_wrapper\u001b[0;34m(self, *args, **kwargs)\u001b[0m\n\u001b[1;32m    455\u001b[0m     \u001b[0mself\u001b[0m\u001b[0;34m.\u001b[0m\u001b[0m_self_setattr_tracking\u001b[0m \u001b[0;34m=\u001b[0m \u001b[0;32mFalse\u001b[0m  \u001b[0;31m# pylint: disable=protected-access\u001b[0m\u001b[0;34m\u001b[0m\u001b[0;34m\u001b[0m\u001b[0m\n\u001b[1;32m    456\u001b[0m     \u001b[0;32mtry\u001b[0m\u001b[0;34m:\u001b[0m\u001b[0;34m\u001b[0m\u001b[0;34m\u001b[0m\u001b[0m\n\u001b[0;32m--> 457\u001b[0;31m       \u001b[0mresult\u001b[0m \u001b[0;34m=\u001b[0m \u001b[0mmethod\u001b[0m\u001b[0;34m(\u001b[0m\u001b[0mself\u001b[0m\u001b[0;34m,\u001b[0m \u001b[0;34m*\u001b[0m\u001b[0margs\u001b[0m\u001b[0;34m,\u001b[0m \u001b[0;34m**\u001b[0m\u001b[0mkwargs\u001b[0m\u001b[0;34m)\u001b[0m\u001b[0;34m\u001b[0m\u001b[0;34m\u001b[0m\u001b[0m\n\u001b[0m\u001b[1;32m    458\u001b[0m     \u001b[0;32mfinally\u001b[0m\u001b[0;34m:\u001b[0m\u001b[0;34m\u001b[0m\u001b[0;34m\u001b[0m\u001b[0m\n\u001b[1;32m    459\u001b[0m       \u001b[0mself\u001b[0m\u001b[0;34m.\u001b[0m\u001b[0m_self_setattr_tracking\u001b[0m \u001b[0;34m=\u001b[0m \u001b[0mprevious_value\u001b[0m  \u001b[0;31m# pylint: disable=protected-access\u001b[0m\u001b[0;34m\u001b[0m\u001b[0;34m\u001b[0m\u001b[0m\n",
      "\u001b[0;32m/usr/local/lib/python3.6/dist-packages/tensorflow/python/keras/engine/functional.py\u001b[0m in \u001b[0;36m_init_graph_network\u001b[0;34m(self, inputs, outputs)\u001b[0m\n\u001b[1;32m    189\u001b[0m     \u001b[0;31m# Keep track of the network's nodes and layers.\u001b[0m\u001b[0;34m\u001b[0m\u001b[0;34m\u001b[0m\u001b[0;34m\u001b[0m\u001b[0m\n\u001b[1;32m    190\u001b[0m     nodes, nodes_by_depth, layers, _ = _map_graph_network(\n\u001b[0;32m--> 191\u001b[0;31m         self.inputs, self.outputs)\n\u001b[0m\u001b[1;32m    192\u001b[0m     \u001b[0mself\u001b[0m\u001b[0;34m.\u001b[0m\u001b[0m_network_nodes\u001b[0m \u001b[0;34m=\u001b[0m \u001b[0mnodes\u001b[0m\u001b[0;34m\u001b[0m\u001b[0;34m\u001b[0m\u001b[0m\n\u001b[1;32m    193\u001b[0m     \u001b[0mself\u001b[0m\u001b[0;34m.\u001b[0m\u001b[0m_nodes_by_depth\u001b[0m \u001b[0;34m=\u001b[0m \u001b[0mnodes_by_depth\u001b[0m\u001b[0;34m\u001b[0m\u001b[0;34m\u001b[0m\u001b[0m\n",
      "\u001b[0;32m/usr/local/lib/python3.6/dist-packages/tensorflow/python/keras/engine/functional.py\u001b[0m in \u001b[0;36m_map_graph_network\u001b[0;34m(inputs, outputs)\u001b[0m\n\u001b[1;32m    929\u001b[0m                              \u001b[0;34m'The following previous layers '\u001b[0m\u001b[0;34m\u001b[0m\u001b[0;34m\u001b[0m\u001b[0m\n\u001b[1;32m    930\u001b[0m                              \u001b[0;34m'were accessed without issue: '\u001b[0m \u001b[0;34m+\u001b[0m\u001b[0;34m\u001b[0m\u001b[0;34m\u001b[0m\u001b[0m\n\u001b[0;32m--> 931\u001b[0;31m                              str(layers_with_complete_input))\n\u001b[0m\u001b[1;32m    932\u001b[0m         \u001b[0;32mfor\u001b[0m \u001b[0mx\u001b[0m \u001b[0;32min\u001b[0m \u001b[0mnest\u001b[0m\u001b[0;34m.\u001b[0m\u001b[0mflatten\u001b[0m\u001b[0;34m(\u001b[0m\u001b[0mnode\u001b[0m\u001b[0;34m.\u001b[0m\u001b[0moutputs\u001b[0m\u001b[0;34m)\u001b[0m\u001b[0;34m:\u001b[0m\u001b[0;34m\u001b[0m\u001b[0;34m\u001b[0m\u001b[0m\n\u001b[1;32m    933\u001b[0m           \u001b[0mcomputable_tensors\u001b[0m\u001b[0;34m.\u001b[0m\u001b[0madd\u001b[0m\u001b[0;34m(\u001b[0m\u001b[0mid\u001b[0m\u001b[0;34m(\u001b[0m\u001b[0mx\u001b[0m\u001b[0;34m)\u001b[0m\u001b[0;34m)\u001b[0m\u001b[0;34m\u001b[0m\u001b[0;34m\u001b[0m\u001b[0m\n",
      "\u001b[0;31mValueError\u001b[0m: Graph disconnected: cannot obtain value for tensor Tensor(\"input_1:0\", shape=(None, 784), dtype=float32) at layer \"dense_2\". The following previous layers were accessed without issue: []"
     ]
    }
   ],
   "source": [
    "decoder_model=tf.keras.models.Model(decoder_inputs ,decoder) \n",
    "#이미 학습됨"
   ]
  },
  {
   "cell_type": "markdown",
   "metadata": {
    "id": "VzOFIjoCM0cl"
   },
   "source": [
    "코딩 테크닉\n",
    "- 모델안에 모델 넣으면 레이어처럼 사용\n",
    "- 각 모델을 별도 학습,예측 가능\n",
    "- 모델로 만들면 공유한 상태로 별도의 모델 사용 가능 \n",
    "\n",
    "  - Input 784 - encoder 32- decoder 784\n",
    "- encoder model: 784개 입력 받을것을 32개로 변환\n",
    "- decoder model: 32개 입력 받을것을 784개로 변환\n",
    "encoder에 있는내용 새로 받아옴\n",
    "기존 형태 그대로 가져옴\n",
    "  - 이전의 레이어 같이 들어오기 때문에 decoder는 input(784)받은 encoder(32)를 포함하기 때문에 layer 사용"
   ]
  },
  {
   "cell_type": "code",
   "execution_count": null,
   "metadata": {
    "id": "XYd6lZoA_OOT"
   },
   "outputs": [],
   "source": [
    "#이미 학습됨\n",
    "inputs=tf.keras.Input((784,))\n",
    "encoder=tf.keras.layers.Dense(32, activation='relu')(inputs)      # 784->32\n",
    "decoder=tf.keras.layers.Dense(784, activation='sigmoid')(encoder) # 784->32-> 784\n",
    "\n",
    "autoencoder=tf.keras.models.Model(inputs, decoder)"
   ]
  },
  {
   "cell_type": "code",
   "execution_count": null,
   "metadata": {
    "colab": {
     "base_uri": "https://localhost:8080/",
     "height": 34
    },
    "id": "OyxkeUzf8EAt",
    "outputId": "94ff7acb-da25-489c-b7de-10946ee93459"
   },
   "outputs": [
    {
     "data": {
      "text/plain": [
       "<tf.Tensor 'dense_2/Relu:0' shape=(None, 32) dtype=float32>"
      ]
     },
     "execution_count": 49,
     "metadata": {
      "tags": []
     },
     "output_type": "execute_result"
    }
   ],
   "source": [
    "encoder #(None, 32)"
   ]
  },
  {
   "cell_type": "code",
   "execution_count": null,
   "metadata": {
    "colab": {
     "base_uri": "https://localhost:8080/",
     "height": 34
    },
    "id": "NSbnaFhS74Au",
    "outputId": "903899f1-a888-49c1-9291-c19ac85c0961"
   },
   "outputs": [
    {
     "data": {
      "text/plain": [
       "<tf.Tensor 'dense_3/Sigmoid:0' shape=(None, 784) dtype=float32>"
      ]
     },
     "execution_count": 48,
     "metadata": {
      "tags": []
     },
     "output_type": "execute_result"
    }
   ],
   "source": [
    "decoder #(None, 784) encoder를 거쳐서 나온 Sigmoid된 결과값으로 나옴    "
   ]
  },
  {
   "cell_type": "code",
   "execution_count": null,
   "metadata": {
    "colab": {
     "base_uri": "https://localhost:8080/",
     "height": 34
    },
    "id": "b4NcneDI71Bf",
    "outputId": "cdc8c8de-cf15-4928-ad29-077858f48a46"
   },
   "outputs": [
    {
     "data": {
      "text/plain": [
       "<tensorflow.python.keras.layers.core.Dense at 0x7f2919143828>"
      ]
     },
     "execution_count": 47,
     "metadata": {
      "tags": []
     },
     "output_type": "execute_result"
    }
   ],
   "source": [
    "autoencoder.layers[-1] #layer 자체로 나옴;  tf.keras.layers.Dense(784, activation='sigmoid')"
   ]
  },
  {
   "cell_type": "code",
   "execution_count": null,
   "metadata": {
    "id": "R0nRGg501WWB"
   },
   "outputs": [],
   "source": [
    "#encoder #(None, 32),모델로 만들면 별도의 모델로 사용 가능 \n",
    "encoder_model= tf.keras.models.Model(inputs,encoder )\n",
    "\n",
    "decoder_layer= autoencoder.layers[-1]#영향 안받기 위해 레이어만 가져옴 decoder_inputs= tf.keras.Input((32))\n",
    "decoder inputs= tf.keras.Input((32,))\n",
    "decoder_model= tf.keras.models.Model(decoder_inputs ,decoder_layer(decoder_inputs) )"
   ]
  },
  {
   "cell_type": "markdown",
   "metadata": {
    "id": "TqINVlmj6qyG"
   },
   "source": [
    "### regularizer\n",
    "- 제약 사항을 주어 조건 규제하여 단순화 시켜서 개선시켜서 학습이 잘 됨\n",
    "\n",
    "- regularizer L1,L2 \n",
    "  - Dense, Convolution layer의 3가지 regularizer \n",
    "   - kernel, bias, activity_regularizer\n",
    "     - kernel, bias, activation된 값 규제\n",
    "참고: https://keras.io/api/layers/convolution_layers/convolution2d/"
   ]
  },
  {
   "cell_type": "code",
   "execution_count": null,
   "metadata": {
    "id": "ju0pApuqVPgC"
   },
   "outputs": [],
   "source": [
    "import tensorflow as tf\n",
    "import numpy as np\n",
    "import matplotlib.pyplot as plt"
   ]
  },
  {
   "cell_type": "code",
   "execution_count": null,
   "metadata": {
    "id": "YEHFiUa26VEz"
   },
   "outputs": [],
   "source": [
    "\n",
    "(X_train,_),(X_test,_)=tf.keras.datasets.mnist.load_data() #비지도 학습\n",
    "X_train =X_train.reshape(60000,28*28) \n",
    "X_train=X_train/255\n",
    "\n",
    "X_test =X_test.reshape(-1,28*28)\n",
    "X_test=X_test/255\n",
    "\n",
    "inputs=tf.keras.Input((784,))\n",
    "encoder=tf.keras.layers.Dense(32, activation='relu', \n",
    "                              activity_regularizer=tf.keras.regularizers.l1() )(inputs) \n",
    "\n",
    "decoder=tf.keras.layers.Dense(784, activation='sigmoid')(encoder)  \n",
    "autoencoder=tf.keras.models.Model(inputs, decoder)\n",
    "\n",
    "decoder_inputs= tf.keras.Input((32,))\n",
    "encoder_model= tf.keras.models.Model(inputs,encoder )     \n",
    "decoder_layer= autoencoder.layers[-1]#영향 안받기 위해 레이어만 가져옴 decoder_inputs= tf.keras.Input((32))\n",
    "decoder_model= tf.keras.models.Model(decoder_inputs ,decoder_layer(decoder_inputs) ) #학습\n"
   ]
  },
  {
   "cell_type": "markdown",
   "metadata": {
    "id": "ChLDWQ0_TN8g"
   },
   "source": [
    "autoencoder compile하면 모든 모델이 공유하게되어서 fit, predict 사용가능"
   ]
  },
  {
   "cell_type": "code",
   "execution_count": null,
   "metadata": {
    "id": "Ug8O7sAI49TJ"
   },
   "outputs": [],
   "source": [
    "autoencoder.compile(optimizer='adam', loss='binary_crossentropy')"
   ]
  },
  {
   "cell_type": "code",
   "execution_count": null,
   "metadata": {
    "colab": {
     "base_uri": "https://localhost:8080/",
     "height": 1000
    },
    "id": "YpA5mnKn6obS",
    "outputId": "271e4a77-3a8c-4efd-bedb-3a2ca5ebb1ab"
   },
   "outputs": [
    {
     "name": "stdout",
     "output_type": "stream",
     "text": [
      "Epoch 1/50\n",
      "1875/1875 [==============================] - 3s 2ms/step - loss: 0.4855\n",
      "Epoch 2/50\n",
      "1875/1875 [==============================] - 3s 2ms/step - loss: 0.3233\n",
      "Epoch 3/50\n",
      "1875/1875 [==============================] - 3s 2ms/step - loss: 0.2835\n",
      "Epoch 4/50\n",
      "1875/1875 [==============================] - 3s 2ms/step - loss: 0.2706\n",
      "Epoch 5/50\n",
      "1875/1875 [==============================] - 3s 2ms/step - loss: 0.2659\n",
      "Epoch 6/50\n",
      "1875/1875 [==============================] - 3s 2ms/step - loss: 0.2641\n",
      "Epoch 7/50\n",
      "1875/1875 [==============================] - 3s 2ms/step - loss: 0.2633\n",
      "Epoch 8/50\n",
      "1875/1875 [==============================] - 3s 2ms/step - loss: 0.2630\n",
      "Epoch 9/50\n",
      "1875/1875 [==============================] - 3s 2ms/step - loss: 0.2629\n",
      "Epoch 10/50\n",
      "1875/1875 [==============================] - 3s 2ms/step - loss: 0.2628\n",
      "Epoch 11/50\n",
      "1875/1875 [==============================] - 3s 2ms/step - loss: 0.2628\n",
      "Epoch 12/50\n",
      "1875/1875 [==============================] - 3s 2ms/step - loss: 0.2628\n",
      "Epoch 13/50\n",
      "1875/1875 [==============================] - 3s 2ms/step - loss: 0.2628\n",
      "Epoch 14/50\n",
      "1875/1875 [==============================] - 3s 2ms/step - loss: 0.2628\n",
      "Epoch 15/50\n",
      "1875/1875 [==============================] - 3s 2ms/step - loss: 0.2628\n",
      "Epoch 16/50\n",
      "1875/1875 [==============================] - 3s 2ms/step - loss: 0.2628\n",
      "Epoch 17/50\n",
      "1875/1875 [==============================] - 3s 2ms/step - loss: 0.2628\n",
      "Epoch 18/50\n",
      "1875/1875 [==============================] - 3s 2ms/step - loss: 0.2628\n",
      "Epoch 19/50\n",
      "1875/1875 [==============================] - 3s 2ms/step - loss: 0.2628\n",
      "Epoch 20/50\n",
      "1875/1875 [==============================] - 3s 2ms/step - loss: 0.2628\n",
      "Epoch 21/50\n",
      "1875/1875 [==============================] - 3s 2ms/step - loss: 0.2628\n",
      "Epoch 22/50\n",
      "1875/1875 [==============================] - 3s 2ms/step - loss: 0.2628\n",
      "Epoch 23/50\n",
      "1875/1875 [==============================] - 3s 2ms/step - loss: 0.2628\n",
      "Epoch 24/50\n",
      "1875/1875 [==============================] - 3s 2ms/step - loss: 0.2628\n",
      "Epoch 25/50\n",
      "1875/1875 [==============================] - 3s 2ms/step - loss: 0.2628\n",
      "Epoch 26/50\n",
      "1875/1875 [==============================] - 3s 2ms/step - loss: 0.2628\n",
      "Epoch 27/50\n",
      "1875/1875 [==============================] - 3s 2ms/step - loss: 0.2628\n",
      "Epoch 28/50\n",
      "1875/1875 [==============================] - 3s 2ms/step - loss: 0.2628\n",
      "Epoch 29/50\n",
      "1875/1875 [==============================] - 3s 2ms/step - loss: 0.2628\n",
      "Epoch 30/50\n",
      "1875/1875 [==============================] - 3s 2ms/step - loss: 0.2628\n",
      "Epoch 31/50\n",
      "1875/1875 [==============================] - 3s 2ms/step - loss: 0.2628\n",
      "Epoch 32/50\n",
      "1875/1875 [==============================] - 3s 2ms/step - loss: 0.2628\n",
      "Epoch 33/50\n",
      "1875/1875 [==============================] - 3s 2ms/step - loss: 0.2628\n",
      "Epoch 34/50\n",
      "1875/1875 [==============================] - 3s 2ms/step - loss: 0.2628\n",
      "Epoch 35/50\n",
      "1875/1875 [==============================] - 3s 2ms/step - loss: 0.2628\n",
      "Epoch 36/50\n",
      "1875/1875 [==============================] - 3s 2ms/step - loss: 0.2628\n",
      "Epoch 37/50\n",
      "1875/1875 [==============================] - 3s 2ms/step - loss: 0.2628\n",
      "Epoch 38/50\n",
      "1875/1875 [==============================] - 3s 2ms/step - loss: 0.2628\n",
      "Epoch 39/50\n",
      "1875/1875 [==============================] - 3s 2ms/step - loss: 0.2628\n",
      "Epoch 40/50\n",
      "1875/1875 [==============================] - 3s 2ms/step - loss: 0.2628\n",
      "Epoch 41/50\n",
      "1875/1875 [==============================] - 3s 2ms/step - loss: 0.2628\n",
      "Epoch 42/50\n",
      "1875/1875 [==============================] - 3s 2ms/step - loss: 0.2628\n",
      "Epoch 43/50\n",
      "1875/1875 [==============================] - 3s 2ms/step - loss: 0.2628\n",
      "Epoch 44/50\n",
      "1875/1875 [==============================] - 3s 2ms/step - loss: 0.2628\n",
      "Epoch 45/50\n",
      "1875/1875 [==============================] - 3s 2ms/step - loss: 0.2628\n",
      "Epoch 46/50\n",
      "1875/1875 [==============================] - 3s 2ms/step - loss: 0.2628\n",
      "Epoch 47/50\n",
      "1875/1875 [==============================] - 3s 2ms/step - loss: 0.2628\n",
      "Epoch 48/50\n",
      "1875/1875 [==============================] - 3s 2ms/step - loss: 0.2628\n",
      "Epoch 49/50\n",
      "1875/1875 [==============================] - 3s 2ms/step - loss: 0.2628\n",
      "Epoch 50/50\n",
      "1875/1875 [==============================] - 3s 2ms/step - loss: 0.2628\n"
     ]
    },
    {
     "data": {
      "text/plain": [
       "<tensorflow.python.keras.callbacks.History at 0x7f06f03c6668>"
      ]
     },
     "execution_count": 4,
     "metadata": {
      "tags": []
     },
     "output_type": "execute_result"
    }
   ],
   "source": [
    "autoencoder.fit(X_train, X_train,\n",
    "                epochs=50) # loss가 잘 안떨어 "
   ]
  },
  {
   "cell_type": "code",
   "execution_count": null,
   "metadata": {
    "colab": {
     "base_uri": "https://localhost:8080/",
     "height": 282
    },
    "id": "PSCvMwkzAm9N",
    "outputId": "ff25b4b5-5512-4c51-900e-db9e0c750591"
   },
   "outputs": [
    {
     "data": {
      "text/plain": [
       "<matplotlib.image.AxesImage at 0x7f06f00ed2b0>"
      ]
     },
     "execution_count": 7,
     "metadata": {
      "tags": []
     },
     "output_type": "execute_result"
    },
    {
     "data": {
      "image/png": "[encoded data removed]",
      "text/plain": [
       "<Figure size 432x288 with 1 Axes>"
      ]
     },
     "metadata": {
      "needs_background": "light",
      "tags": []
     },
     "output_type": "display_data"
    }
   ],
   "source": [
    "decoder_image=autoencoder(X_test[0][np.newaxis]).numpy()\n",
    "plt.imshow(decoder_image.reshape(28,28),cmap='gray') "
   ]
  },
  {
   "cell_type": "code",
   "execution_count": null,
   "metadata": {
    "id": "S3JwR8T1A-JE"
   },
   "outputs": [],
   "source": [
    "e_i=encoder_model.predict(X_test)\n",
    "d_i=decoder_model.predict(e_i)"
   ]
  },
  {
   "cell_type": "code",
   "execution_count": null,
   "metadata": {
    "colab": {
     "base_uri": "https://localhost:8080/",
     "height": 282
    },
    "id": "k0Lg5wbdBL79",
    "outputId": "2ca6e126-1be7-44ad-b0ce-99b8de34fa78"
   },
   "outputs": [
    {
     "data": {
      "text/plain": [
       "<matplotlib.image.AxesImage at 0x7f06fa45f828>"
      ]
     },
     "execution_count": 10,
     "metadata": {
      "tags": []
     },
     "output_type": "execute_result"
    },
    {
     "data": {
      "image/png": "[encoded data removed]",
      "text/plain": [
       "<Figure size 432x288 with 1 Axes>"
      ]
     },
     "metadata": {
      "needs_background": "light",
      "tags": []
     },
     "output_type": "display_data"
    }
   ],
   "source": [
    "plt.imshow(d_i[0].reshape(28,28), cmap='gray') #학습이 잘 안됨"
   ]
  },
  {
   "cell_type": "markdown",
   "metadata": {
    "id": "YiSXWyRfFkFZ"
   },
   "source": [
    "### Deep Autoencoder\n",
    "- encoder, decoder 레이어 한개로 784 -> 32차원으로 바꾸려 하니 잘 안됨\n",
    "- 레이어를 깊게 쌓으면 비선형성 향상되서 성능 향상"
   ]
  },
  {
   "cell_type": "code",
   "execution_count": null,
   "metadata": {
    "id": "mIU07QHYFi1w"
   },
   "outputs": [],
   "source": [
    "input_img=tf.keras.Input((784,))\n",
    "encoded = tf.keras.layers.Dense(256, activation='relu')(input_img)\n",
    "encoded = tf.keras.layers.Dense(128, activation='relu')(input_img)\n",
    "encoded = tf.keras.layers.Dense(64, activation='relu')(input_img)\n",
    "encoded = tf.keras.layers.Dense(32, activation='relu')(input_img)\n",
    "#역순\n",
    "decoded = tf.keras.layers.Dense(64, activation='relu')(encoded)\n",
    "decoded = tf.keras.layers.Dense(128, activation='relu')(decoded)\n",
    "decoded = tf.keras.layers.Dense(256, activation='relu')(decoded)\n",
    "decoded = tf.keras.layers.Dense(784, activation='sigmoid')(decoded) # 이진 분류 : 맞다 틀리다\n"
   ]
  },
  {
   "cell_type": "code",
   "execution_count": null,
   "metadata": {
    "id": "DyX4iJdeBQYY"
   },
   "outputs": [],
   "source": [
    "autoencoder = tf.keras.Model(input_img, decoded)\n",
    "autoencoder.compile(optimizer='adam', loss='binary_crossentropy')"
   ]
  },
  {
   "cell_type": "code",
   "execution_count": null,
   "metadata": {
    "colab": {
     "base_uri": "https://localhost:8080/",
     "height": 1000
    },
    "id": "p-jRzh1VGuN3",
    "outputId": "184443eb-7390-4c94-ca2f-2772b5af998f"
   },
   "outputs": [
    {
     "name": "stdout",
     "output_type": "stream",
     "text": [
      "Epoch 1/100\n",
      "235/235 [==============================] - 1s 4ms/step - loss: 0.2324\n",
      "Epoch 2/100\n",
      "235/235 [==============================] - 1s 4ms/step - loss: 0.1386\n",
      "Epoch 3/100\n",
      "235/235 [==============================] - 1s 4ms/step - loss: 0.1204\n",
      "Epoch 4/100\n",
      "235/235 [==============================] - 1s 4ms/step - loss: 0.1113\n",
      "Epoch 5/100\n",
      "235/235 [==============================] - 1s 4ms/step - loss: 0.1052\n",
      "Epoch 6/100\n",
      "235/235 [==============================] - 1s 4ms/step - loss: 0.1016\n",
      "Epoch 7/100\n",
      "235/235 [==============================] - 1s 4ms/step - loss: 0.0987\n",
      "Epoch 8/100\n",
      "235/235 [==============================] - 1s 5ms/step - loss: 0.0965\n",
      "Epoch 9/100\n",
      "235/235 [==============================] - 1s 4ms/step - loss: 0.0947\n",
      "Epoch 10/100\n",
      "235/235 [==============================] - 1s 4ms/step - loss: 0.0932\n",
      "Epoch 11/100\n",
      "235/235 [==============================] - 1s 4ms/step - loss: 0.0919\n",
      "Epoch 12/100\n",
      "235/235 [==============================] - 1s 4ms/step - loss: 0.0909\n",
      "Epoch 13/100\n",
      "235/235 [==============================] - 1s 4ms/step - loss: 0.0900\n",
      "Epoch 14/100\n",
      "235/235 [==============================] - 1s 5ms/step - loss: 0.0891\n",
      "Epoch 15/100\n",
      "235/235 [==============================] - 1s 4ms/step - loss: 0.0883\n",
      "Epoch 16/100\n",
      "235/235 [==============================] - 1s 4ms/step - loss: 0.0875\n",
      "Epoch 17/100\n",
      "235/235 [==============================] - 1s 4ms/step - loss: 0.0869\n",
      "Epoch 18/100\n",
      "235/235 [==============================] - 1s 4ms/step - loss: 0.0863\n",
      "Epoch 19/100\n",
      "235/235 [==============================] - 1s 4ms/step - loss: 0.0859\n",
      "Epoch 20/100\n",
      "235/235 [==============================] - 1s 4ms/step - loss: 0.0853\n",
      "Epoch 21/100\n",
      "235/235 [==============================] - 1s 4ms/step - loss: 0.0849\n",
      "Epoch 22/100\n",
      "235/235 [==============================] - 1s 4ms/step - loss: 0.0845\n",
      "Epoch 23/100\n",
      "235/235 [==============================] - 1s 4ms/step - loss: 0.0841\n",
      "Epoch 24/100\n",
      "235/235 [==============================] - 1s 4ms/step - loss: 0.0837\n",
      "Epoch 25/100\n",
      "235/235 [==============================] - 1s 4ms/step - loss: 0.0834\n",
      "Epoch 26/100\n",
      "235/235 [==============================] - 1s 4ms/step - loss: 0.0832\n",
      "Epoch 27/100\n",
      "235/235 [==============================] - 1s 4ms/step - loss: 0.0829\n",
      "Epoch 28/100\n",
      "235/235 [==============================] - 1s 5ms/step - loss: 0.0827\n",
      "Epoch 29/100\n",
      "235/235 [==============================] - 1s 4ms/step - loss: 0.0825\n",
      "Epoch 30/100\n",
      "235/235 [==============================] - 1s 4ms/step - loss: 0.0822\n",
      "Epoch 31/100\n",
      "235/235 [==============================] - 1s 4ms/step - loss: 0.0821\n",
      "Epoch 32/100\n",
      "235/235 [==============================] - 1s 4ms/step - loss: 0.0819\n",
      "Epoch 33/100\n",
      "235/235 [==============================] - 1s 5ms/step - loss: 0.0818\n",
      "Epoch 34/100\n",
      "235/235 [==============================] - 1s 4ms/step - loss: 0.0816\n",
      "Epoch 35/100\n",
      "235/235 [==============================] - 1s 4ms/step - loss: 0.0815\n",
      "Epoch 36/100\n",
      "235/235 [==============================] - 1s 4ms/step - loss: 0.0813\n",
      "Epoch 37/100\n",
      "235/235 [==============================] - 1s 4ms/step - loss: 0.0810\n",
      "Epoch 38/100\n",
      "235/235 [==============================] - 1s 4ms/step - loss: 0.0808\n",
      "Epoch 39/100\n",
      "235/235 [==============================] - 1s 5ms/step - loss: 0.0806\n",
      "Epoch 40/100\n",
      "235/235 [==============================] - 1s 4ms/step - loss: 0.0805\n",
      "Epoch 41/100\n",
      "235/235 [==============================] - 1s 5ms/step - loss: 0.0804\n",
      "Epoch 42/100\n",
      "235/235 [==============================] - 1s 4ms/step - loss: 0.0802\n",
      "Epoch 43/100\n",
      "235/235 [==============================] - 1s 4ms/step - loss: 0.0801\n",
      "Epoch 44/100\n",
      "235/235 [==============================] - 1s 4ms/step - loss: 0.0800\n",
      "Epoch 45/100\n",
      "235/235 [==============================] - 1s 4ms/step - loss: 0.0799\n",
      "Epoch 46/100\n",
      "235/235 [==============================] - 1s 5ms/step - loss: 0.0798\n",
      "Epoch 47/100\n",
      "235/235 [==============================] - 1s 5ms/step - loss: 0.0797\n",
      "Epoch 48/100\n",
      "235/235 [==============================] - 1s 5ms/step - loss: 0.0796\n",
      "Epoch 49/100\n",
      "235/235 [==============================] - 1s 5ms/step - loss: 0.0795\n",
      "Epoch 50/100\n",
      "235/235 [==============================] - 1s 5ms/step - loss: 0.0794\n",
      "Epoch 51/100\n",
      "235/235 [==============================] - 1s 5ms/step - loss: 0.0794\n",
      "Epoch 52/100\n",
      "235/235 [==============================] - 1s 5ms/step - loss: 0.0793\n",
      "Epoch 53/100\n",
      "235/235 [==============================] - 1s 4ms/step - loss: 0.0792\n",
      "Epoch 54/100\n",
      "235/235 [==============================] - 1s 4ms/step - loss: 0.0791\n",
      "Epoch 55/100\n",
      "235/235 [==============================] - 1s 4ms/step - loss: 0.0791\n",
      "Epoch 56/100\n",
      "235/235 [==============================] - 1s 4ms/step - loss: 0.0791\n",
      "Epoch 57/100\n",
      "235/235 [==============================] - 1s 4ms/step - loss: 0.0790\n",
      "Epoch 58/100\n",
      "235/235 [==============================] - 1s 4ms/step - loss: 0.0789\n",
      "Epoch 59/100\n",
      "235/235 [==============================] - 1s 4ms/step - loss: 0.0789\n",
      "Epoch 60/100\n",
      "235/235 [==============================] - 1s 4ms/step - loss: 0.0788\n",
      "Epoch 61/100\n",
      "235/235 [==============================] - 1s 4ms/step - loss: 0.0788\n",
      "Epoch 62/100\n",
      "235/235 [==============================] - 1s 4ms/step - loss: 0.0787\n",
      "Epoch 63/100\n",
      "235/235 [==============================] - 1s 4ms/step - loss: 0.0787\n",
      "Epoch 64/100\n",
      "235/235 [==============================] - 1s 4ms/step - loss: 0.0786\n",
      "Epoch 65/100\n",
      "235/235 [==============================] - 1s 4ms/step - loss: 0.0786\n",
      "Epoch 66/100\n",
      "235/235 [==============================] - 1s 4ms/step - loss: 0.0786\n",
      "Epoch 67/100\n",
      "235/235 [==============================] - 1s 5ms/step - loss: 0.0785\n",
      "Epoch 68/100\n",
      "235/235 [==============================] - 1s 4ms/step - loss: 0.0784\n",
      "Epoch 69/100\n",
      "235/235 [==============================] - 1s 4ms/step - loss: 0.0785\n",
      "Epoch 70/100\n",
      "235/235 [==============================] - 1s 4ms/step - loss: 0.0784\n",
      "Epoch 71/100\n",
      "235/235 [==============================] - 1s 4ms/step - loss: 0.0783\n",
      "Epoch 72/100\n",
      "235/235 [==============================] - 1s 4ms/step - loss: 0.0783\n",
      "Epoch 73/100\n",
      "235/235 [==============================] - 1s 4ms/step - loss: 0.0783\n",
      "Epoch 74/100\n",
      "235/235 [==============================] - 1s 4ms/step - loss: 0.0782\n",
      "Epoch 75/100\n",
      "235/235 [==============================] - 1s 4ms/step - loss: 0.0782\n",
      "Epoch 76/100\n",
      "235/235 [==============================] - 1s 4ms/step - loss: 0.0782\n",
      "Epoch 77/100\n",
      "235/235 [==============================] - 1s 5ms/step - loss: 0.0782\n",
      "Epoch 78/100\n",
      "235/235 [==============================] - 1s 4ms/step - loss: 0.0781\n",
      "Epoch 79/100\n",
      "235/235 [==============================] - 1s 4ms/step - loss: 0.0781\n",
      "Epoch 80/100\n",
      "235/235 [==============================] - 1s 4ms/step - loss: 0.0780\n",
      "Epoch 81/100\n",
      "235/235 [==============================] - 1s 4ms/step - loss: 0.0780\n",
      "Epoch 82/100\n",
      "235/235 [==============================] - 1s 4ms/step - loss: 0.0780\n",
      "Epoch 83/100\n",
      "235/235 [==============================] - 1s 4ms/step - loss: 0.0779\n",
      "Epoch 84/100\n",
      "235/235 [==============================] - 1s 5ms/step - loss: 0.0779\n",
      "Epoch 85/100\n",
      "235/235 [==============================] - 1s 4ms/step - loss: 0.0780\n",
      "Epoch 86/100\n",
      "235/235 [==============================] - 1s 5ms/step - loss: 0.0779\n",
      "Epoch 87/100\n",
      "235/235 [==============================] - 1s 5ms/step - loss: 0.0779\n",
      "Epoch 88/100\n",
      "235/235 [==============================] - 1s 5ms/step - loss: 0.0779\n",
      "Epoch 89/100\n",
      "235/235 [==============================] - 1s 4ms/step - loss: 0.0778\n",
      "Epoch 90/100\n",
      "235/235 [==============================] - 1s 4ms/step - loss: 0.0778\n",
      "Epoch 91/100\n",
      "235/235 [==============================] - 1s 4ms/step - loss: 0.0778\n",
      "Epoch 92/100\n",
      "235/235 [==============================] - 1s 4ms/step - loss: 0.0777\n",
      "Epoch 93/100\n",
      "235/235 [==============================] - 1s 5ms/step - loss: 0.0778\n",
      "Epoch 94/100\n",
      "235/235 [==============================] - 1s 5ms/step - loss: 0.0777\n",
      "Epoch 95/100\n",
      "235/235 [==============================] - 1s 4ms/step - loss: 0.0777\n",
      "Epoch 96/100\n",
      "235/235 [==============================] - 1s 4ms/step - loss: 0.0777\n",
      "Epoch 97/100\n",
      "235/235 [==============================] - 1s 5ms/step - loss: 0.0777\n",
      "Epoch 98/100\n",
      "235/235 [==============================] - 1s 5ms/step - loss: 0.0776\n",
      "Epoch 99/100\n",
      "235/235 [==============================] - 1s 5ms/step - loss: 0.0777\n",
      "Epoch 100/100\n",
      "235/235 [==============================] - 1s 4ms/step - loss: 0.0776\n"
     ]
    },
    {
     "data": {
      "text/plain": [
       "<tensorflow.python.keras.callbacks.History at 0x7f29701def60>"
      ]
     },
     "execution_count": 68,
     "metadata": {
      "tags": []
     },
     "output_type": "execute_result"
    }
   ],
   "source": [
    "autoencoder.fit(X_train,X_train, epochs=100, batch_size=256)"
   ]
  },
  {
   "cell_type": "markdown",
   "metadata": {
    "id": "RomwJHquG9j6"
   },
   "source": [
    "- 특징을 잘 압축해서 복원함\n",
    "- 딥러닝으로 representation learning도 발전"
   ]
  },
  {
   "cell_type": "code",
   "execution_count": null,
   "metadata": {
    "colab": {
     "base_uri": "https://localhost:8080/",
     "height": 282
    },
    "id": "mPO7D5kkG3rZ",
    "outputId": "afcb8926-4cae-4221-8530-216b02ed2b84"
   },
   "outputs": [
    {
     "data": {
      "text/plain": [
       "<matplotlib.image.AxesImage at 0x7f29160965c0>"
      ]
     },
     "execution_count": 83,
     "metadata": {
      "tags": []
     },
     "output_type": "execute_result"
    },
    {
     "data": {
      "image/png": "[encoded data removed]",
      "text/plain": [
       "<Figure size 432x288 with 1 Axes>"
      ]
     },
     "metadata": {
      "needs_background": "light",
      "tags": []
     },
     "output_type": "display_data"
    }
   ],
   "source": [
    "x_ = autoencoder.predict(X_test)[1]\n",
    "plt.imshow(x_.reshape(28,28))"
   ]
  },
  {
   "cell_type": "code",
   "execution_count": null,
   "metadata": {
    "colab": {
     "base_uri": "https://localhost:8080/",
     "height": 282
    },
    "id": "TJX0xXMlHWG1",
    "outputId": "dbedbf2f-3444-4509-f971-c4417d06c793"
   },
   "outputs": [
    {
     "data": {
      "text/plain": [
       "<matplotlib.image.AxesImage at 0x7f29160cb198>"
      ]
     },
     "execution_count": 84,
     "metadata": {
      "tags": []
     },
     "output_type": "execute_result"
    },
    {
     "data": {
      "image/png": "[encoded data removed]",
      "text/plain": [
       "<Figure size 432x288 with 1 Axes>"
      ]
     },
     "metadata": {
      "needs_background": "light",
      "tags": []
     },
     "output_type": "display_data"
    }
   ],
   "source": [
    "plt.imshow(X_test[1].reshape(28,28)) #원본"
   ]
  },
  {
   "cell_type": "markdown",
   "metadata": {
    "id": "1k8PI8PDImq8"
   },
   "source": [
    "### Convolutional Autoencoder\n",
    " - 입력: 3차원 이미지 데이터"
   ]
  },
  {
   "cell_type": "code",
   "execution_count": null,
   "metadata": {
    "id": "g0wk3SFZH1Cz"
   },
   "outputs": [],
   "source": [
    "(X_train,_),(X_test,_)=tf.keras.datasets.mnist.load_data()\n",
    "X_train=X_train.reshape(-1,28,28,1)\n",
    "X_train=X_train/255\n",
    "X_test=X_test.reshape(-1,28,28,1)\n",
    "X_test=X_test/255"
   ]
  },
  {
   "cell_type": "markdown",
   "metadata": {
    "id": "aiTDdRBiKQ0Z"
   },
   "source": [
    "### 복원\n",
    "- up sampling: 크기 늘리는것\n",
    "  - 원본을 유지\n",
    "  - `UpSampling2D` 학습을 통해서 늘림\n",
    "- CNN: 크기는 줄어들지만 원래 원본 이미지의 특성을 간직하고 flatten해서 예측했더니 FCNN보다 성능이 좋음"
   ]
  },
  {
   "cell_type": "code",
   "execution_count": null,
   "metadata": {
    "colab": {
     "base_uri": "https://localhost:8080/",
     "height": 596
    },
    "id": "pAngy9y4JL2D",
    "outputId": "de42d2fd-2a87-4499-f9f2-c0486d1c6233"
   },
   "outputs": [
    {
     "ename": "ValueError",
     "evalue": "ignored",
     "output_type": "error",
     "traceback": [
      "\u001b[0;31m---------------------------------------------------------------------------\u001b[0m",
      "\u001b[0;31mInvalidArgumentError\u001b[0m                      Traceback (most recent call last)",
      "\u001b[0;32m/usr/local/lib/python3.6/dist-packages/tensorflow/python/framework/ops.py\u001b[0m in \u001b[0;36m_create_c_op\u001b[0;34m(graph, node_def, inputs, control_inputs, op_def)\u001b[0m\n\u001b[1;32m   1811\u001b[0m   \u001b[0;32mtry\u001b[0m\u001b[0;34m:\u001b[0m\u001b[0;34m\u001b[0m\u001b[0;34m\u001b[0m\u001b[0m\n\u001b[0;32m-> 1812\u001b[0;31m     \u001b[0mc_op\u001b[0m \u001b[0;34m=\u001b[0m \u001b[0mpywrap_tf_session\u001b[0m\u001b[0;34m.\u001b[0m\u001b[0mTF_FinishOperation\u001b[0m\u001b[0;34m(\u001b[0m\u001b[0mop_desc\u001b[0m\u001b[0;34m)\u001b[0m\u001b[0;34m\u001b[0m\u001b[0;34m\u001b[0m\u001b[0m\n\u001b[0m\u001b[1;32m   1813\u001b[0m   \u001b[0;32mexcept\u001b[0m \u001b[0merrors\u001b[0m\u001b[0;34m.\u001b[0m\u001b[0mInvalidArgumentError\u001b[0m \u001b[0;32mas\u001b[0m \u001b[0me\u001b[0m\u001b[0;34m:\u001b[0m\u001b[0;34m\u001b[0m\u001b[0;34m\u001b[0m\u001b[0m\n",
      "\u001b[0;31mInvalidArgumentError\u001b[0m: Negative dimension size caused by subtracting 3 from 2 for '{{node conv2d_4/Conv2D}} = Conv2D[T=DT_FLOAT, data_format=\"NHWC\", dilations=[1, 1, 1, 1], explicit_paddings=[], padding=\"VALID\", strides=[1, 1, 1, 1], use_cudnn_on_gpu=true](up_sampling2d_8/resize/ResizeNearestNeighbor, conv2d_4/Conv2D/ReadVariableOp)' with input shapes: [?,2,2,8], [3,3,8,8].",
      "\nDuring handling of the above exception, another exception occurred:\n",
      "\u001b[0;31mValueError\u001b[0m                                Traceback (most recent call last)",
      "\u001b[0;32m<ipython-input-98-f03c49a1b084>\u001b[0m in \u001b[0;36m<module>\u001b[0;34m()\u001b[0m\n\u001b[1;32m      9\u001b[0m \u001b[0mx\u001b[0m \u001b[0;34m=\u001b[0m \u001b[0mtf\u001b[0m\u001b[0;34m.\u001b[0m\u001b[0mkeras\u001b[0m\u001b[0;34m.\u001b[0m\u001b[0mlayers\u001b[0m\u001b[0;34m.\u001b[0m\u001b[0mConv2D\u001b[0m\u001b[0;34m(\u001b[0m\u001b[0;36m8\u001b[0m\u001b[0;34m,\u001b[0m \u001b[0;36m3\u001b[0m\u001b[0;34m,\u001b[0m \u001b[0mactivation\u001b[0m\u001b[0;34m=\u001b[0m\u001b[0;34m'relu'\u001b[0m\u001b[0;34m)\u001b[0m\u001b[0;34m(\u001b[0m\u001b[0mx\u001b[0m\u001b[0;34m)\u001b[0m\u001b[0;34m\u001b[0m\u001b[0;34m\u001b[0m\u001b[0m\n\u001b[1;32m     10\u001b[0m \u001b[0mx\u001b[0m \u001b[0;34m=\u001b[0m \u001b[0mtf\u001b[0m\u001b[0;34m.\u001b[0m\u001b[0mkeras\u001b[0m\u001b[0;34m.\u001b[0m\u001b[0mlayers\u001b[0m\u001b[0;34m.\u001b[0m\u001b[0mUpSampling2D\u001b[0m\u001b[0;34m(\u001b[0m\u001b[0;34m(\u001b[0m\u001b[0;36m2\u001b[0m\u001b[0;34m,\u001b[0m\u001b[0;36m2\u001b[0m\u001b[0;34m)\u001b[0m\u001b[0;34m)\u001b[0m\u001b[0;34m(\u001b[0m\u001b[0mx\u001b[0m\u001b[0;34m)\u001b[0m\u001b[0;34m\u001b[0m\u001b[0;34m\u001b[0m\u001b[0m\n\u001b[0;32m---> 11\u001b[0;31m \u001b[0mx\u001b[0m \u001b[0;34m=\u001b[0m \u001b[0mtf\u001b[0m\u001b[0;34m.\u001b[0m\u001b[0mkeras\u001b[0m\u001b[0;34m.\u001b[0m\u001b[0mlayers\u001b[0m\u001b[0;34m.\u001b[0m\u001b[0mConv2D\u001b[0m\u001b[0;34m(\u001b[0m\u001b[0;36m8\u001b[0m\u001b[0;34m,\u001b[0m \u001b[0;36m3\u001b[0m\u001b[0;34m,\u001b[0m \u001b[0mactivation\u001b[0m\u001b[0;34m=\u001b[0m\u001b[0;34m'relu'\u001b[0m\u001b[0;34m)\u001b[0m\u001b[0;34m(\u001b[0m\u001b[0mx\u001b[0m\u001b[0;34m)\u001b[0m\u001b[0;34m\u001b[0m\u001b[0;34m\u001b[0m\u001b[0m\n\u001b[0m\u001b[1;32m     12\u001b[0m \u001b[0mx\u001b[0m \u001b[0;34m=\u001b[0m \u001b[0mtf\u001b[0m\u001b[0;34m.\u001b[0m\u001b[0mkeras\u001b[0m\u001b[0;34m.\u001b[0m\u001b[0mlayers\u001b[0m\u001b[0;34m.\u001b[0m\u001b[0mUpSampling2D\u001b[0m\u001b[0;34m(\u001b[0m\u001b[0;34m(\u001b[0m\u001b[0;36m2\u001b[0m\u001b[0;34m,\u001b[0m\u001b[0;36m2\u001b[0m\u001b[0;34m)\u001b[0m\u001b[0;34m)\u001b[0m\u001b[0;34m(\u001b[0m\u001b[0mx\u001b[0m\u001b[0;34m)\u001b[0m\u001b[0;34m\u001b[0m\u001b[0;34m\u001b[0m\u001b[0m\n\u001b[1;32m     13\u001b[0m \u001b[0mx\u001b[0m \u001b[0;34m=\u001b[0m \u001b[0mtf\u001b[0m\u001b[0;34m.\u001b[0m\u001b[0mkeras\u001b[0m\u001b[0;34m.\u001b[0m\u001b[0mlayers\u001b[0m\u001b[0;34m.\u001b[0m\u001b[0mConv2D\u001b[0m\u001b[0;34m(\u001b[0m\u001b[0;36m16\u001b[0m\u001b[0;34m,\u001b[0m \u001b[0;36m3\u001b[0m\u001b[0;34m,\u001b[0m \u001b[0mactivation\u001b[0m\u001b[0;34m=\u001b[0m\u001b[0;34m'relu'\u001b[0m\u001b[0;34m)\u001b[0m\u001b[0;34m(\u001b[0m\u001b[0mx\u001b[0m\u001b[0;34m)\u001b[0m\u001b[0;34m\u001b[0m\u001b[0;34m\u001b[0m\u001b[0m\n",
      "\u001b[0;32m/usr/local/lib/python3.6/dist-packages/tensorflow/python/keras/engine/base_layer.py\u001b[0m in \u001b[0;36m__call__\u001b[0;34m(self, *args, **kwargs)\u001b[0m\n\u001b[1;32m    924\u001b[0m     \u001b[0;32mif\u001b[0m \u001b[0m_in_functional_construction_mode\u001b[0m\u001b[0;34m(\u001b[0m\u001b[0mself\u001b[0m\u001b[0;34m,\u001b[0m \u001b[0minputs\u001b[0m\u001b[0;34m,\u001b[0m \u001b[0margs\u001b[0m\u001b[0;34m,\u001b[0m \u001b[0mkwargs\u001b[0m\u001b[0;34m,\u001b[0m \u001b[0minput_list\u001b[0m\u001b[0;34m)\u001b[0m\u001b[0;34m:\u001b[0m\u001b[0;34m\u001b[0m\u001b[0;34m\u001b[0m\u001b[0m\n\u001b[1;32m    925\u001b[0m       return self._functional_construction_call(inputs, args, kwargs,\n\u001b[0;32m--> 926\u001b[0;31m                                                 input_list)\n\u001b[0m\u001b[1;32m    927\u001b[0m \u001b[0;34m\u001b[0m\u001b[0m\n\u001b[1;32m    928\u001b[0m     \u001b[0;31m# Maintains info about the `Layer.call` stack.\u001b[0m\u001b[0;34m\u001b[0m\u001b[0;34m\u001b[0m\u001b[0;34m\u001b[0m\u001b[0m\n",
      "\u001b[0;32m/usr/local/lib/python3.6/dist-packages/tensorflow/python/keras/engine/base_layer.py\u001b[0m in \u001b[0;36m_functional_construction_call\u001b[0;34m(self, inputs, args, kwargs, input_list)\u001b[0m\n\u001b[1;32m   1115\u001b[0m           \u001b[0;32mtry\u001b[0m\u001b[0;34m:\u001b[0m\u001b[0;34m\u001b[0m\u001b[0;34m\u001b[0m\u001b[0m\n\u001b[1;32m   1116\u001b[0m             \u001b[0;32mwith\u001b[0m \u001b[0mops\u001b[0m\u001b[0;34m.\u001b[0m\u001b[0menable_auto_cast_variables\u001b[0m\u001b[0;34m(\u001b[0m\u001b[0mself\u001b[0m\u001b[0;34m.\u001b[0m\u001b[0m_compute_dtype_object\u001b[0m\u001b[0;34m)\u001b[0m\u001b[0;34m:\u001b[0m\u001b[0;34m\u001b[0m\u001b[0;34m\u001b[0m\u001b[0m\n\u001b[0;32m-> 1117\u001b[0;31m               \u001b[0moutputs\u001b[0m \u001b[0;34m=\u001b[0m \u001b[0mcall_fn\u001b[0m\u001b[0;34m(\u001b[0m\u001b[0mcast_inputs\u001b[0m\u001b[0;34m,\u001b[0m \u001b[0;34m*\u001b[0m\u001b[0margs\u001b[0m\u001b[0;34m,\u001b[0m \u001b[0;34m**\u001b[0m\u001b[0mkwargs\u001b[0m\u001b[0;34m)\u001b[0m\u001b[0;34m\u001b[0m\u001b[0;34m\u001b[0m\u001b[0m\n\u001b[0m\u001b[1;32m   1118\u001b[0m \u001b[0;34m\u001b[0m\u001b[0m\n\u001b[1;32m   1119\u001b[0m           \u001b[0;32mexcept\u001b[0m \u001b[0merrors\u001b[0m\u001b[0;34m.\u001b[0m\u001b[0mOperatorNotAllowedInGraphError\u001b[0m \u001b[0;32mas\u001b[0m \u001b[0me\u001b[0m\u001b[0;34m:\u001b[0m\u001b[0;34m\u001b[0m\u001b[0;34m\u001b[0m\u001b[0m\n",
      "\u001b[0;32m/usr/local/lib/python3.6/dist-packages/tensorflow/python/keras/layers/convolutional.py\u001b[0m in \u001b[0;36mcall\u001b[0;34m(self, inputs)\u001b[0m\n\u001b[1;32m    245\u001b[0m       \u001b[0minputs\u001b[0m \u001b[0;34m=\u001b[0m \u001b[0marray_ops\u001b[0m\u001b[0;34m.\u001b[0m\u001b[0mpad\u001b[0m\u001b[0;34m(\u001b[0m\u001b[0minputs\u001b[0m\u001b[0;34m,\u001b[0m \u001b[0mself\u001b[0m\u001b[0;34m.\u001b[0m\u001b[0m_compute_causal_padding\u001b[0m\u001b[0;34m(\u001b[0m\u001b[0minputs\u001b[0m\u001b[0;34m)\u001b[0m\u001b[0;34m)\u001b[0m\u001b[0;34m\u001b[0m\u001b[0;34m\u001b[0m\u001b[0m\n\u001b[1;32m    246\u001b[0m \u001b[0;34m\u001b[0m\u001b[0m\n\u001b[0;32m--> 247\u001b[0;31m     \u001b[0moutputs\u001b[0m \u001b[0;34m=\u001b[0m \u001b[0mself\u001b[0m\u001b[0;34m.\u001b[0m\u001b[0m_convolution_op\u001b[0m\u001b[0;34m(\u001b[0m\u001b[0minputs\u001b[0m\u001b[0;34m,\u001b[0m \u001b[0mself\u001b[0m\u001b[0;34m.\u001b[0m\u001b[0mkernel\u001b[0m\u001b[0;34m)\u001b[0m\u001b[0;34m\u001b[0m\u001b[0;34m\u001b[0m\u001b[0m\n\u001b[0m\u001b[1;32m    248\u001b[0m \u001b[0;34m\u001b[0m\u001b[0m\n\u001b[1;32m    249\u001b[0m     \u001b[0;32mif\u001b[0m \u001b[0mself\u001b[0m\u001b[0;34m.\u001b[0m\u001b[0muse_bias\u001b[0m\u001b[0;34m:\u001b[0m\u001b[0;34m\u001b[0m\u001b[0;34m\u001b[0m\u001b[0m\n",
      "\u001b[0;32m/usr/local/lib/python3.6/dist-packages/tensorflow/python/util/dispatch.py\u001b[0m in \u001b[0;36mwrapper\u001b[0;34m(*args, **kwargs)\u001b[0m\n\u001b[1;32m    199\u001b[0m     \u001b[0;34m\"\"\"Call target, and fall back on dispatchers if there is a TypeError.\"\"\"\u001b[0m\u001b[0;34m\u001b[0m\u001b[0;34m\u001b[0m\u001b[0m\n\u001b[1;32m    200\u001b[0m     \u001b[0;32mtry\u001b[0m\u001b[0;34m:\u001b[0m\u001b[0;34m\u001b[0m\u001b[0;34m\u001b[0m\u001b[0m\n\u001b[0;32m--> 201\u001b[0;31m       \u001b[0;32mreturn\u001b[0m \u001b[0mtarget\u001b[0m\u001b[0;34m(\u001b[0m\u001b[0;34m*\u001b[0m\u001b[0margs\u001b[0m\u001b[0;34m,\u001b[0m \u001b[0;34m**\u001b[0m\u001b[0mkwargs\u001b[0m\u001b[0;34m)\u001b[0m\u001b[0;34m\u001b[0m\u001b[0;34m\u001b[0m\u001b[0m\n\u001b[0m\u001b[1;32m    202\u001b[0m     \u001b[0;32mexcept\u001b[0m \u001b[0;34m(\u001b[0m\u001b[0mTypeError\u001b[0m\u001b[0;34m,\u001b[0m \u001b[0mValueError\u001b[0m\u001b[0;34m)\u001b[0m\u001b[0;34m:\u001b[0m\u001b[0;34m\u001b[0m\u001b[0;34m\u001b[0m\u001b[0m\n\u001b[1;32m    203\u001b[0m       \u001b[0;31m# Note: convert_to_eager_tensor currently raises a ValueError, not a\u001b[0m\u001b[0;34m\u001b[0m\u001b[0;34m\u001b[0m\u001b[0;34m\u001b[0m\u001b[0m\n",
      "\u001b[0;32m/usr/local/lib/python3.6/dist-packages/tensorflow/python/ops/nn_ops.py\u001b[0m in \u001b[0;36mconvolution_v2\u001b[0;34m(input, filters, strides, padding, data_format, dilations, name)\u001b[0m\n\u001b[1;32m   1016\u001b[0m       \u001b[0mdata_format\u001b[0m\u001b[0;34m=\u001b[0m\u001b[0mdata_format\u001b[0m\u001b[0;34m,\u001b[0m\u001b[0;34m\u001b[0m\u001b[0;34m\u001b[0m\u001b[0m\n\u001b[1;32m   1017\u001b[0m       \u001b[0mdilations\u001b[0m\u001b[0;34m=\u001b[0m\u001b[0mdilations\u001b[0m\u001b[0;34m,\u001b[0m\u001b[0;34m\u001b[0m\u001b[0;34m\u001b[0m\u001b[0m\n\u001b[0;32m-> 1018\u001b[0;31m       name=name)\n\u001b[0m\u001b[1;32m   1019\u001b[0m \u001b[0;34m\u001b[0m\u001b[0m\n\u001b[1;32m   1020\u001b[0m \u001b[0;34m\u001b[0m\u001b[0m\n",
      "\u001b[0;32m/usr/local/lib/python3.6/dist-packages/tensorflow/python/ops/nn_ops.py\u001b[0m in \u001b[0;36mconvolution_internal\u001b[0;34m(input, filters, strides, padding, data_format, dilations, name, call_from_convolution, num_spatial_dims)\u001b[0m\n\u001b[1;32m   1146\u001b[0m           \u001b[0mdata_format\u001b[0m\u001b[0;34m=\u001b[0m\u001b[0mdata_format\u001b[0m\u001b[0;34m,\u001b[0m\u001b[0;34m\u001b[0m\u001b[0;34m\u001b[0m\u001b[0m\n\u001b[1;32m   1147\u001b[0m           \u001b[0mdilations\u001b[0m\u001b[0;34m=\u001b[0m\u001b[0mdilations\u001b[0m\u001b[0;34m,\u001b[0m\u001b[0;34m\u001b[0m\u001b[0;34m\u001b[0m\u001b[0m\n\u001b[0;32m-> 1148\u001b[0;31m           name=name)\n\u001b[0m\u001b[1;32m   1149\u001b[0m     \u001b[0;32melse\u001b[0m\u001b[0;34m:\u001b[0m\u001b[0;34m\u001b[0m\u001b[0;34m\u001b[0m\u001b[0m\n\u001b[1;32m   1150\u001b[0m       \u001b[0;32mif\u001b[0m \u001b[0mchannel_index\u001b[0m \u001b[0;34m==\u001b[0m \u001b[0;36m1\u001b[0m\u001b[0;34m:\u001b[0m\u001b[0;34m\u001b[0m\u001b[0;34m\u001b[0m\u001b[0m\n",
      "\u001b[0;32m/usr/local/lib/python3.6/dist-packages/tensorflow/python/ops/nn_ops.py\u001b[0m in \u001b[0;36m_conv2d_expanded_batch\u001b[0;34m(input, filters, strides, padding, data_format, dilations, name)\u001b[0m\n\u001b[1;32m   2590\u001b[0m         \u001b[0mdata_format\u001b[0m\u001b[0;34m=\u001b[0m\u001b[0mdata_format\u001b[0m\u001b[0;34m,\u001b[0m\u001b[0;34m\u001b[0m\u001b[0;34m\u001b[0m\u001b[0m\n\u001b[1;32m   2591\u001b[0m         \u001b[0mdilations\u001b[0m\u001b[0;34m=\u001b[0m\u001b[0mdilations\u001b[0m\u001b[0;34m,\u001b[0m\u001b[0;34m\u001b[0m\u001b[0;34m\u001b[0m\u001b[0m\n\u001b[0;32m-> 2592\u001b[0;31m         name=name)\n\u001b[0m\u001b[1;32m   2593\u001b[0m   return squeeze_batch_dims(\n\u001b[1;32m   2594\u001b[0m       \u001b[0minput\u001b[0m\u001b[0;34m,\u001b[0m\u001b[0;34m\u001b[0m\u001b[0;34m\u001b[0m\u001b[0m\n",
      "\u001b[0;32m/usr/local/lib/python3.6/dist-packages/tensorflow/python/ops/gen_nn_ops.py\u001b[0m in \u001b[0;36mconv2d\u001b[0;34m(input, filter, strides, padding, use_cudnn_on_gpu, explicit_paddings, data_format, dilations, name)\u001b[0m\n\u001b[1;32m    977\u001b[0m                   \u001b[0mpadding\u001b[0m\u001b[0;34m=\u001b[0m\u001b[0mpadding\u001b[0m\u001b[0;34m,\u001b[0m \u001b[0muse_cudnn_on_gpu\u001b[0m\u001b[0;34m=\u001b[0m\u001b[0muse_cudnn_on_gpu\u001b[0m\u001b[0;34m,\u001b[0m\u001b[0;34m\u001b[0m\u001b[0;34m\u001b[0m\u001b[0m\n\u001b[1;32m    978\u001b[0m                   \u001b[0mexplicit_paddings\u001b[0m\u001b[0;34m=\u001b[0m\u001b[0mexplicit_paddings\u001b[0m\u001b[0;34m,\u001b[0m\u001b[0;34m\u001b[0m\u001b[0;34m\u001b[0m\u001b[0m\n\u001b[0;32m--> 979\u001b[0;31m                   data_format=data_format, dilations=dilations, name=name)\n\u001b[0m\u001b[1;32m    980\u001b[0m   \u001b[0m_result\u001b[0m \u001b[0;34m=\u001b[0m \u001b[0m_outputs\u001b[0m\u001b[0;34m[\u001b[0m\u001b[0;34m:\u001b[0m\u001b[0;34m]\u001b[0m\u001b[0;34m\u001b[0m\u001b[0;34m\u001b[0m\u001b[0m\n\u001b[1;32m    981\u001b[0m   \u001b[0;32mif\u001b[0m \u001b[0m_execute\u001b[0m\u001b[0;34m.\u001b[0m\u001b[0mmust_record_gradient\u001b[0m\u001b[0;34m(\u001b[0m\u001b[0;34m)\u001b[0m\u001b[0;34m:\u001b[0m\u001b[0;34m\u001b[0m\u001b[0;34m\u001b[0m\u001b[0m\n",
      "\u001b[0;32m/usr/local/lib/python3.6/dist-packages/tensorflow/python/framework/op_def_library.py\u001b[0m in \u001b[0;36m_apply_op_helper\u001b[0;34m(op_type_name, name, **keywords)\u001b[0m\n\u001b[1;32m    742\u001b[0m       op = g._create_op_internal(op_type_name, inputs, dtypes=None,\n\u001b[1;32m    743\u001b[0m                                  \u001b[0mname\u001b[0m\u001b[0;34m=\u001b[0m\u001b[0mscope\u001b[0m\u001b[0;34m,\u001b[0m \u001b[0minput_types\u001b[0m\u001b[0;34m=\u001b[0m\u001b[0minput_types\u001b[0m\u001b[0;34m,\u001b[0m\u001b[0;34m\u001b[0m\u001b[0;34m\u001b[0m\u001b[0m\n\u001b[0;32m--> 744\u001b[0;31m                                  attrs=attr_protos, op_def=op_def)\n\u001b[0m\u001b[1;32m    745\u001b[0m \u001b[0;34m\u001b[0m\u001b[0m\n\u001b[1;32m    746\u001b[0m     \u001b[0;31m# `outputs` is returned as a separate return value so that the output\u001b[0m\u001b[0;34m\u001b[0m\u001b[0;34m\u001b[0m\u001b[0;34m\u001b[0m\u001b[0m\n",
      "\u001b[0;32m/usr/local/lib/python3.6/dist-packages/tensorflow/python/framework/func_graph.py\u001b[0m in \u001b[0;36m_create_op_internal\u001b[0;34m(self, op_type, inputs, dtypes, input_types, name, attrs, op_def, compute_device)\u001b[0m\n\u001b[1;32m    591\u001b[0m     return super(FuncGraph, self)._create_op_internal(  # pylint: disable=protected-access\n\u001b[1;32m    592\u001b[0m         \u001b[0mop_type\u001b[0m\u001b[0;34m,\u001b[0m \u001b[0minputs\u001b[0m\u001b[0;34m,\u001b[0m \u001b[0mdtypes\u001b[0m\u001b[0;34m,\u001b[0m \u001b[0minput_types\u001b[0m\u001b[0;34m,\u001b[0m \u001b[0mname\u001b[0m\u001b[0;34m,\u001b[0m \u001b[0mattrs\u001b[0m\u001b[0;34m,\u001b[0m \u001b[0mop_def\u001b[0m\u001b[0;34m,\u001b[0m\u001b[0;34m\u001b[0m\u001b[0;34m\u001b[0m\u001b[0m\n\u001b[0;32m--> 593\u001b[0;31m         compute_device)\n\u001b[0m\u001b[1;32m    594\u001b[0m \u001b[0;34m\u001b[0m\u001b[0m\n\u001b[1;32m    595\u001b[0m   \u001b[0;32mdef\u001b[0m \u001b[0mcapture\u001b[0m\u001b[0;34m(\u001b[0m\u001b[0mself\u001b[0m\u001b[0;34m,\u001b[0m \u001b[0mtensor\u001b[0m\u001b[0;34m,\u001b[0m \u001b[0mname\u001b[0m\u001b[0;34m=\u001b[0m\u001b[0;32mNone\u001b[0m\u001b[0;34m,\u001b[0m \u001b[0mshape\u001b[0m\u001b[0;34m=\u001b[0m\u001b[0;32mNone\u001b[0m\u001b[0;34m)\u001b[0m\u001b[0;34m:\u001b[0m\u001b[0;34m\u001b[0m\u001b[0;34m\u001b[0m\u001b[0m\n",
      "\u001b[0;32m/usr/local/lib/python3.6/dist-packages/tensorflow/python/framework/ops.py\u001b[0m in \u001b[0;36m_create_op_internal\u001b[0;34m(self, op_type, inputs, dtypes, input_types, name, attrs, op_def, compute_device)\u001b[0m\n\u001b[1;32m   3483\u001b[0m           \u001b[0minput_types\u001b[0m\u001b[0;34m=\u001b[0m\u001b[0minput_types\u001b[0m\u001b[0;34m,\u001b[0m\u001b[0;34m\u001b[0m\u001b[0;34m\u001b[0m\u001b[0m\n\u001b[1;32m   3484\u001b[0m           \u001b[0moriginal_op\u001b[0m\u001b[0;34m=\u001b[0m\u001b[0mself\u001b[0m\u001b[0;34m.\u001b[0m\u001b[0m_default_original_op\u001b[0m\u001b[0;34m,\u001b[0m\u001b[0;34m\u001b[0m\u001b[0;34m\u001b[0m\u001b[0m\n\u001b[0;32m-> 3485\u001b[0;31m           op_def=op_def)\n\u001b[0m\u001b[1;32m   3486\u001b[0m       \u001b[0mself\u001b[0m\u001b[0;34m.\u001b[0m\u001b[0m_create_op_helper\u001b[0m\u001b[0;34m(\u001b[0m\u001b[0mret\u001b[0m\u001b[0;34m,\u001b[0m \u001b[0mcompute_device\u001b[0m\u001b[0;34m=\u001b[0m\u001b[0mcompute_device\u001b[0m\u001b[0;34m)\u001b[0m\u001b[0;34m\u001b[0m\u001b[0;34m\u001b[0m\u001b[0m\n\u001b[1;32m   3487\u001b[0m     \u001b[0;32mreturn\u001b[0m \u001b[0mret\u001b[0m\u001b[0;34m\u001b[0m\u001b[0;34m\u001b[0m\u001b[0m\n",
      "\u001b[0;32m/usr/local/lib/python3.6/dist-packages/tensorflow/python/framework/ops.py\u001b[0m in \u001b[0;36m__init__\u001b[0;34m(self, node_def, g, inputs, output_types, control_inputs, input_types, original_op, op_def)\u001b[0m\n\u001b[1;32m   1973\u001b[0m         \u001b[0mop_def\u001b[0m \u001b[0;34m=\u001b[0m \u001b[0mself\u001b[0m\u001b[0;34m.\u001b[0m\u001b[0m_graph\u001b[0m\u001b[0;34m.\u001b[0m\u001b[0m_get_op_def\u001b[0m\u001b[0;34m(\u001b[0m\u001b[0mnode_def\u001b[0m\u001b[0;34m.\u001b[0m\u001b[0mop\u001b[0m\u001b[0;34m)\u001b[0m\u001b[0;34m\u001b[0m\u001b[0;34m\u001b[0m\u001b[0m\n\u001b[1;32m   1974\u001b[0m       self._c_op = _create_c_op(self._graph, node_def, inputs,\n\u001b[0;32m-> 1975\u001b[0;31m                                 control_input_ops, op_def)\n\u001b[0m\u001b[1;32m   1976\u001b[0m       \u001b[0mname\u001b[0m \u001b[0;34m=\u001b[0m \u001b[0mcompat\u001b[0m\u001b[0;34m.\u001b[0m\u001b[0mas_str\u001b[0m\u001b[0;34m(\u001b[0m\u001b[0mnode_def\u001b[0m\u001b[0;34m.\u001b[0m\u001b[0mname\u001b[0m\u001b[0;34m)\u001b[0m\u001b[0;34m\u001b[0m\u001b[0;34m\u001b[0m\u001b[0m\n\u001b[1;32m   1977\u001b[0m     \u001b[0;31m# pylint: enable=protected-access\u001b[0m\u001b[0;34m\u001b[0m\u001b[0;34m\u001b[0m\u001b[0;34m\u001b[0m\u001b[0m\n",
      "\u001b[0;32m/usr/local/lib/python3.6/dist-packages/tensorflow/python/framework/ops.py\u001b[0m in \u001b[0;36m_create_c_op\u001b[0;34m(graph, node_def, inputs, control_inputs, op_def)\u001b[0m\n\u001b[1;32m   1813\u001b[0m   \u001b[0;32mexcept\u001b[0m \u001b[0merrors\u001b[0m\u001b[0;34m.\u001b[0m\u001b[0mInvalidArgumentError\u001b[0m \u001b[0;32mas\u001b[0m \u001b[0me\u001b[0m\u001b[0;34m:\u001b[0m\u001b[0;34m\u001b[0m\u001b[0;34m\u001b[0m\u001b[0m\n\u001b[1;32m   1814\u001b[0m     \u001b[0;31m# Convert to ValueError for backwards compatibility.\u001b[0m\u001b[0;34m\u001b[0m\u001b[0;34m\u001b[0m\u001b[0;34m\u001b[0m\u001b[0m\n\u001b[0;32m-> 1815\u001b[0;31m     \u001b[0;32mraise\u001b[0m \u001b[0mValueError\u001b[0m\u001b[0;34m(\u001b[0m\u001b[0mstr\u001b[0m\u001b[0;34m(\u001b[0m\u001b[0me\u001b[0m\u001b[0;34m)\u001b[0m\u001b[0;34m)\u001b[0m\u001b[0;34m\u001b[0m\u001b[0;34m\u001b[0m\u001b[0m\n\u001b[0m\u001b[1;32m   1816\u001b[0m \u001b[0;34m\u001b[0m\u001b[0m\n\u001b[1;32m   1817\u001b[0m   \u001b[0;32mreturn\u001b[0m \u001b[0mc_op\u001b[0m\u001b[0;34m\u001b[0m\u001b[0;34m\u001b[0m\u001b[0m\n",
      "\u001b[0;31mValueError\u001b[0m: Negative dimension size caused by subtracting 3 from 2 for '{{node conv2d_4/Conv2D}} = Conv2D[T=DT_FLOAT, data_format=\"NHWC\", dilations=[1, 1, 1, 1], explicit_paddings=[], padding=\"VALID\", strides=[1, 1, 1, 1], use_cudnn_on_gpu=true](up_sampling2d_8/resize/ResizeNearestNeighbor, conv2d_4/Conv2D/ReadVariableOp)' with input shapes: [?,2,2,8], [3,3,8,8]."
     ]
    }
   ],
   "source": [
    "#padding 없이 모델 구성\n",
    "input_img=tf.keras.Input((28,28,1))\n",
    "# \n",
    "x = tf.keras.layers.Conv2D(16, 3, activation='relu')(input_img)\n",
    "x = tf.keras.layers.MaxPool2D((2, 2))(x)\n",
    "x = tf.keras.layers.Conv2D(8,3, activation='relu')(x\n",
    "x = tf.keras.layers.MaxPool2D((2, 2))(x)\n",
    "x = tf.keras.layers.Conv2D(8, 3, activation='relu')(x) \n",
    "encoded = tf.keras.layers.MaxPool2D((2, 2))(x)\n",
    "\n",
    "# 크기복원:convolution으로 축소되어서 upsampling\n",
    "x = tf.keras.layers.Conv2D(8, 3, activation='relu')(encoded) \n",
    "x = tf.keras.layers.UpSampling2D((2,2))(x) \n",
    "x = tf.keras.layers.Conv2D(8, 3, activation='relu')(x) \n",
    "x = tf.keras.layers.UpSampling2D((2,2))(x)\n",
    "x = tf.keras.layers.Conv2D(16, 3, activation='relu')(x) \n",
    "x = tf.keras.layers.UpSampling2D((2,2))(x)\n",
    "\n",
    "#최종 레이어: 이미지 하나씩 입력되었어서  1\n",
    "decoded = tf.keras.layers.Conv2D(1, 3, activation='sigmoid')(x) \n",
    "\n",
    "autoencoder = keras.Model(input_img, decoded)\n",
    "autoencoder.compile(optimizer='adam', loss='binary_crossentropy')"
   ]
  },
  {
   "cell_type": "code",
   "execution_count": null,
   "metadata": {
    "colab": {
     "base_uri": "https://localhost:8080/",
     "height": 170
    },
    "id": "fUMaqykULvXZ",
    "outputId": "401efa02-9b14-444e-ed1c-f3a8e776b9be"
   },
   "outputs": [
    {
     "data": {
      "text/plain": [
       "array([[[[ 0,  1,  2],\n",
       "         [ 3,  4,  5],\n",
       "         [ 6,  7,  8],\n",
       "         [ 9, 10, 11]],\n",
       "\n",
       "        [[12, 13, 14],\n",
       "         [15, 16, 17],\n",
       "         [18, 19, 20],\n",
       "         [21, 22, 23]]]])"
      ]
     },
     "execution_count": 12,
     "metadata": {
      "tags": []
     },
     "output_type": "execute_result"
    }
   ],
   "source": [
    "b=np.arange(24).reshape(1,2,4,3)  # 2,3,4 이미지 1개\n",
    "b"
   ]
  },
  {
   "cell_type": "markdown",
   "metadata": {
    "id": "JGM7e6CaMXWh"
   },
   "source": [
    "- 이미지 interpolation: nearest, bilinear\n",
    "4d tensor "
   ]
  },
  {
   "cell_type": "code",
   "execution_count": null,
   "metadata": {
    "colab": {
     "base_uri": "https://localhost:8080/",
     "height": 357
    },
    "id": "s61TMdIKMuur",
    "outputId": "91bf97e1-dd0e-4464-bff0-449195317d62"
   },
   "outputs": [
    {
     "data": {
      "text/plain": [
       "<tf.Tensor: shape=(1, 4, 4, 3), dtype=int64, numpy=\n",
       "array([[[[ 0,  1,  2],\n",
       "         [ 3,  4,  5],\n",
       "         [ 6,  7,  8],\n",
       "         [ 9, 10, 11]],\n",
       "\n",
       "        [[ 0,  1,  2],\n",
       "         [ 3,  4,  5],\n",
       "         [ 6,  7,  8],\n",
       "         [ 9, 10, 11]],\n",
       "\n",
       "        [[12, 13, 14],\n",
       "         [15, 16, 17],\n",
       "         [18, 19, 20],\n",
       "         [21, 22, 23]],\n",
       "\n",
       "        [[12, 13, 14],\n",
       "         [15, 16, 17],\n",
       "         [18, 19, 20],\n",
       "         [21, 22, 23]]]])>"
      ]
     },
     "execution_count": 19,
     "metadata": {
      "tags": []
     },
     "output_type": "execute_result"
    }
   ],
   "source": [
    "a= tf.keras.layers.UpSampling2D((2,1)) #2차원 이미지 #height 2배\n",
    "a(b) #레이어는 함수형 패러다임  "
   ]
  },
  {
   "cell_type": "code",
   "execution_count": null,
   "metadata": {
    "colab": {
     "base_uri": "https://localhost:8080/",
     "height": 459
    },
    "id": "m82tN1-LJSPn",
    "outputId": "a8dd0fa8-9fd8-45ba-8ec4-623cc77fac32"
   },
   "outputs": [
    {
     "data": {
      "text/plain": [
       "<tf.Tensor: shape=(1, 2, 12, 3), dtype=int64, numpy=\n",
       "array([[[[ 0,  1,  2],\n",
       "         [ 0,  1,  2],\n",
       "         [ 0,  1,  2],\n",
       "         [ 3,  4,  5],\n",
       "         [ 3,  4,  5],\n",
       "         [ 3,  4,  5],\n",
       "         [ 6,  7,  8],\n",
       "         [ 6,  7,  8],\n",
       "         [ 6,  7,  8],\n",
       "         [ 9, 10, 11],\n",
       "         [ 9, 10, 11],\n",
       "         [ 9, 10, 11]],\n",
       "\n",
       "        [[12, 13, 14],\n",
       "         [12, 13, 14],\n",
       "         [12, 13, 14],\n",
       "         [15, 16, 17],\n",
       "         [15, 16, 17],\n",
       "         [15, 16, 17],\n",
       "         [18, 19, 20],\n",
       "         [18, 19, 20],\n",
       "         [18, 19, 20],\n",
       "         [21, 22, 23],\n",
       "         [21, 22, 23],\n",
       "         [21, 22, 23]]]])>"
      ]
     },
     "execution_count": 18,
     "metadata": {
      "tags": []
     },
     "output_type": "execute_result"
    }
   ],
   "source": [
    "a= tf.keras.layers.UpSampling2D((1,3)) #2차원 이미지  width 3배  \n",
    "a(b) #레이어는 함수형 패러다임 "
   ]
  },
  {
   "cell_type": "code",
   "execution_count": null,
   "metadata": {
    "id": "py5AgNGhOhju"
   },
   "outputs": [],
   "source": [
    "import keras\n",
    "from keras import layers\n",
    "#입력 크기 맞추기 위해서 padding ='same'\n",
    "\n",
    "input_img = keras.Input(shape=(28, 28, 1))\n",
    "#encoder   #특성따라서 학습\n",
    "x = layers.Conv2D(16, (3, 3), activation='relu', padding='same')(input_img)\n",
    "x = layers.MaxPooling2D((2, 2), padding='same')(x)\n",
    "x = layers.Conv2D(8, (3, 3), activation='relu', padding='same')(x)\n",
    "x = layers.MaxPooling2D((2, 2), padding='same')(x)\n",
    "x = layers.Conv2D(8, (3, 3), activation='relu', padding='same')(x)\n",
    "encoded = layers.MaxPooling2D((2, 2), padding='same')(x)\n",
    "\n",
    "# at this point the representation is (4, 4, 8) i.e. 128-dimensional\n",
    "#decoder  특성 바탕으로 새롭게 생성, 가짜데이터 생성\n",
    "x = layers.Conv2D(8, (3, 3), activation='relu', padding='same')(encoded)\n",
    "x = layers.UpSampling2D((2, 2))(x)\n",
    "x = layers.Conv2D(8, (3, 3), activation='relu', padding='same')(x)\n",
    "x = layers.UpSampling2D((2, 2))(x)\n",
    "x = layers.Conv2D(16, (3, 3), activation='relu')(x)  #??? \n",
    "x = layers.UpSampling2D((2, 2))(x)\n",
    "decoded = layers.Conv2D(1, (3, 3), activation='sigmoid', padding='same')(x)\n",
    "\n",
    "autoencoder = keras.Model(input_img, decoded)\n"
   ]
  },
  {
   "cell_type": "code",
   "execution_count": null,
   "metadata": {
    "id": "gMHFx7alOe_9"
   },
   "outputs": [],
   "source": [
    "autoencoder.compile(optimizer='adam', loss='binary_crossentropy')"
   ]
  },
  {
   "cell_type": "code",
   "execution_count": null,
   "metadata": {
    "colab": {
     "base_uri": "https://localhost:8080/",
     "height": 1000
    },
    "id": "aEq_KDa4MP-2",
    "outputId": "32c27a9f-8478-4f84-ad84-42f490eff624"
   },
   "outputs": [
    {
     "name": "stdout",
     "output_type": "stream",
     "text": [
      "Epoch 1/100\n",
      "235/235 [==============================] - 2s 7ms/step - loss: 0.2591\n",
      "Epoch 2/100\n",
      "235/235 [==============================] - 1s 6ms/step - loss: 0.1550\n",
      "Epoch 3/100\n",
      "235/235 [==============================] - 1s 6ms/step - loss: 0.1380\n",
      "Epoch 4/100\n",
      "235/235 [==============================] - 1s 6ms/step - loss: 0.1290\n",
      "Epoch 5/100\n",
      "235/235 [==============================] - 1s 6ms/step - loss: 0.1238\n",
      "Epoch 6/100\n",
      "235/235 [==============================] - 1s 6ms/step - loss: 0.1201\n",
      "Epoch 7/100\n",
      "235/235 [==============================] - 2s 6ms/step - loss: 0.1172\n",
      "Epoch 8/100\n",
      "235/235 [==============================] - 1s 6ms/step - loss: 0.1146\n",
      "Epoch 9/100\n",
      "235/235 [==============================] - 1s 6ms/step - loss: 0.1125\n",
      "Epoch 10/100\n",
      "235/235 [==============================] - 1s 6ms/step - loss: 0.1107\n",
      "Epoch 11/100\n",
      "235/235 [==============================] - 1s 6ms/step - loss: 0.1092\n",
      "Epoch 12/100\n",
      "235/235 [==============================] - 1s 6ms/step - loss: 0.1080\n",
      "Epoch 13/100\n",
      "235/235 [==============================] - 2s 7ms/step - loss: 0.1071\n",
      "Epoch 14/100\n",
      "235/235 [==============================] - 2s 6ms/step - loss: 0.1062\n",
      "Epoch 15/100\n",
      "235/235 [==============================] - 2s 7ms/step - loss: 0.1054\n",
      "Epoch 16/100\n",
      "235/235 [==============================] - 2s 7ms/step - loss: 0.1048\n",
      "Epoch 17/100\n",
      "235/235 [==============================] - 2s 7ms/step - loss: 0.1041\n",
      "Epoch 18/100\n",
      "235/235 [==============================] - 2s 7ms/step - loss: 0.1035\n",
      "Epoch 19/100\n",
      "235/235 [==============================] - 1s 6ms/step - loss: 0.1029\n",
      "Epoch 20/100\n",
      "235/235 [==============================] - 1s 6ms/step - loss: 0.1024\n",
      "Epoch 21/100\n",
      "235/235 [==============================] - 1s 6ms/step - loss: 0.1018\n",
      "Epoch 22/100\n",
      "235/235 [==============================] - 1s 6ms/step - loss: 0.1013\n",
      "Epoch 23/100\n",
      "235/235 [==============================] - 1s 6ms/step - loss: 0.1009\n",
      "Epoch 24/100\n",
      "235/235 [==============================] - 1s 6ms/step - loss: 0.1005\n",
      "Epoch 25/100\n",
      "235/235 [==============================] - 1s 6ms/step - loss: 0.1001\n",
      "Epoch 26/100\n",
      "235/235 [==============================] - 2s 6ms/step - loss: 0.0997\n",
      "Epoch 27/100\n",
      "235/235 [==============================] - 1s 6ms/step - loss: 0.0995\n",
      "Epoch 28/100\n",
      "235/235 [==============================] - 1s 6ms/step - loss: 0.0991\n",
      "Epoch 29/100\n",
      "235/235 [==============================] - 1s 6ms/step - loss: 0.0989\n",
      "Epoch 30/100\n",
      "235/235 [==============================] - 1s 6ms/step - loss: 0.0985\n",
      "Epoch 31/100\n",
      "235/235 [==============================] - 1s 6ms/step - loss: 0.0982\n",
      "Epoch 32/100\n",
      "235/235 [==============================] - 1s 6ms/step - loss: 0.0980\n",
      "Epoch 33/100\n",
      "235/235 [==============================] - 1s 6ms/step - loss: 0.0978\n",
      "Epoch 34/100\n",
      "235/235 [==============================] - 1s 6ms/step - loss: 0.0975\n",
      "Epoch 35/100\n",
      "235/235 [==============================] - 1s 6ms/step - loss: 0.0972\n",
      "Epoch 36/100\n",
      "235/235 [==============================] - 1s 6ms/step - loss: 0.0969\n",
      "Epoch 37/100\n",
      "235/235 [==============================] - 2s 6ms/step - loss: 0.0967\n",
      "Epoch 38/100\n",
      "235/235 [==============================] - 1s 6ms/step - loss: 0.0965\n",
      "Epoch 39/100\n",
      "235/235 [==============================] - 1s 6ms/step - loss: 0.0962\n",
      "Epoch 40/100\n",
      "235/235 [==============================] - 2s 6ms/step - loss: 0.0960\n",
      "Epoch 41/100\n",
      "235/235 [==============================] - 1s 6ms/step - loss: 0.0958\n",
      "Epoch 42/100\n",
      "235/235 [==============================] - 1s 6ms/step - loss: 0.0956\n",
      "Epoch 43/100\n",
      "235/235 [==============================] - 2s 6ms/step - loss: 0.0954\n",
      "Epoch 44/100\n",
      "235/235 [==============================] - 1s 6ms/step - loss: 0.0952\n",
      "Epoch 45/100\n",
      "235/235 [==============================] - 1s 6ms/step - loss: 0.0949\n",
      "Epoch 46/100\n",
      "235/235 [==============================] - 2s 6ms/step - loss: 0.0949\n",
      "Epoch 47/100\n",
      "235/235 [==============================] - 2s 6ms/step - loss: 0.0946\n",
      "Epoch 48/100\n",
      "235/235 [==============================] - 2s 6ms/step - loss: 0.0945\n",
      "Epoch 49/100\n",
      "235/235 [==============================] - 2s 6ms/step - loss: 0.0943\n",
      "Epoch 50/100\n",
      "235/235 [==============================] - 2s 6ms/step - loss: 0.0942\n",
      "Epoch 51/100\n",
      "235/235 [==============================] - 2s 6ms/step - loss: 0.0941\n",
      "Epoch 52/100\n",
      "235/235 [==============================] - 2s 7ms/step - loss: 0.0939\n",
      "Epoch 53/100\n",
      "235/235 [==============================] - 2s 6ms/step - loss: 0.0938\n",
      "Epoch 54/100\n",
      "235/235 [==============================] - 2s 6ms/step - loss: 0.0937\n",
      "Epoch 55/100\n",
      "235/235 [==============================] - 1s 6ms/step - loss: 0.0936\n",
      "Epoch 56/100\n",
      "235/235 [==============================] - 1s 6ms/step - loss: 0.0934\n",
      "Epoch 57/100\n",
      "235/235 [==============================] - 1s 6ms/step - loss: 0.0934\n",
      "Epoch 58/100\n",
      "235/235 [==============================] - 2s 6ms/step - loss: 0.0932\n",
      "Epoch 59/100\n",
      "235/235 [==============================] - 2s 6ms/step - loss: 0.0932\n",
      "Epoch 60/100\n",
      "235/235 [==============================] - 2s 6ms/step - loss: 0.0931\n",
      "Epoch 61/100\n",
      "235/235 [==============================] - 2s 6ms/step - loss: 0.0929\n",
      "Epoch 62/100\n",
      "235/235 [==============================] - 1s 6ms/step - loss: 0.0929\n",
      "Epoch 63/100\n",
      "235/235 [==============================] - 2s 6ms/step - loss: 0.0928\n",
      "Epoch 64/100\n",
      "235/235 [==============================] - 1s 6ms/step - loss: 0.0927\n",
      "Epoch 65/100\n",
      "235/235 [==============================] - 2s 6ms/step - loss: 0.0927\n",
      "Epoch 66/100\n",
      "235/235 [==============================] - 2s 6ms/step - loss: 0.0925\n",
      "Epoch 67/100\n",
      "235/235 [==============================] - 1s 6ms/step - loss: 0.0925\n",
      "Epoch 68/100\n",
      "235/235 [==============================] - 1s 6ms/step - loss: 0.0924\n",
      "Epoch 69/100\n",
      "235/235 [==============================] - 1s 6ms/step - loss: 0.0924\n",
      "Epoch 70/100\n",
      "235/235 [==============================] - 1s 6ms/step - loss: 0.0923\n",
      "Epoch 71/100\n",
      "235/235 [==============================] - 1s 6ms/step - loss: 0.0922\n",
      "Epoch 72/100\n",
      "235/235 [==============================] - 1s 6ms/step - loss: 0.0922\n",
      "Epoch 73/100\n",
      "235/235 [==============================] - 2s 6ms/step - loss: 0.0921\n",
      "Epoch 74/100\n",
      "235/235 [==============================] - 1s 6ms/step - loss: 0.0921\n",
      "Epoch 75/100\n",
      "235/235 [==============================] - 2s 6ms/step - loss: 0.0920\n",
      "Epoch 76/100\n",
      "235/235 [==============================] - 1s 6ms/step - loss: 0.0920\n",
      "Epoch 77/100\n",
      "235/235 [==============================] - 1s 6ms/step - loss: 0.0919\n",
      "Epoch 78/100\n",
      "235/235 [==============================] - 1s 6ms/step - loss: 0.0918\n",
      "Epoch 79/100\n",
      "235/235 [==============================] - 1s 6ms/step - loss: 0.0917\n",
      "Epoch 80/100\n",
      "235/235 [==============================] - 2s 6ms/step - loss: 0.0917\n",
      "Epoch 81/100\n",
      "235/235 [==============================] - 2s 6ms/step - loss: 0.0917\n",
      "Epoch 82/100\n",
      "235/235 [==============================] - 1s 6ms/step - loss: 0.0916\n",
      "Epoch 83/100\n",
      "235/235 [==============================] - 1s 6ms/step - loss: 0.0915\n",
      "Epoch 84/100\n",
      "235/235 [==============================] - 1s 6ms/step - loss: 0.0915\n",
      "Epoch 85/100\n",
      "235/235 [==============================] - 1s 6ms/step - loss: 0.0914\n",
      "Epoch 86/100\n",
      "235/235 [==============================] - 1s 6ms/step - loss: 0.0914\n",
      "Epoch 87/100\n",
      "235/235 [==============================] - 2s 6ms/step - loss: 0.0914\n",
      "Epoch 88/100\n",
      "235/235 [==============================] - 2s 6ms/step - loss: 0.0913\n",
      "Epoch 89/100\n",
      "235/235 [==============================] - 2s 6ms/step - loss: 0.0913\n",
      "Epoch 90/100\n",
      "235/235 [==============================] - 1s 6ms/step - loss: 0.0912\n",
      "Epoch 91/100\n",
      "235/235 [==============================] - 1s 6ms/step - loss: 0.0911\n",
      "Epoch 92/100\n",
      "235/235 [==============================] - 2s 6ms/step - loss: 0.0911\n",
      "Epoch 93/100\n",
      "235/235 [==============================] - 2s 7ms/step - loss: 0.0911\n",
      "Epoch 94/100\n",
      "235/235 [==============================] - 1s 6ms/step - loss: 0.0910\n",
      "Epoch 95/100\n",
      "235/235 [==============================] - 2s 6ms/step - loss: 0.0910\n",
      "Epoch 96/100\n",
      "235/235 [==============================] - 2s 6ms/step - loss: 0.0909\n",
      "Epoch 97/100\n",
      "235/235 [==============================] - 2s 7ms/step - loss: 0.0909\n",
      "Epoch 98/100\n",
      "235/235 [==============================] - 2s 6ms/step - loss: 0.0908\n",
      "Epoch 99/100\n",
      "235/235 [==============================] - 2s 6ms/step - loss: 0.0908\n",
      "Epoch 100/100\n",
      "235/235 [==============================] - 2s 6ms/step - loss: 0.0909\n"
     ]
    },
    {
     "data": {
      "text/plain": [
       "<tensorflow.python.keras.callbacks.History at 0x7f068c5647b8>"
      ]
     },
     "execution_count": 23,
     "metadata": {
      "tags": []
     },
     "output_type": "execute_result"
    }
   ],
   "source": [
    "autoencoder.fit(X_train, X_train,\n",
    "                epochs=100,\n",
    "                batch_size=256)"
   ]
  },
  {
   "cell_type": "markdown",
   "metadata": {
    "id": "MEFcgUsWQ9C2"
   },
   "source": [
    "### Denoising \n",
    "- 이미지 데이터의 noise 넣고 학습하면 랜덤한 패턴때문에 고유특성이 아니라고 생각하여 제거됨 \n"
   ]
  },
  {
   "cell_type": "code",
   "execution_count": 1,
   "metadata": {
    "colab": {
     "base_uri": "https://localhost:8080/",
     "height": 71
    },
    "id": "f1WiYt6ARR0o",
    "outputId": "68b7863e-057a-41cf-e669-cccf20e95ee5"
   },
   "outputs": [
    {
     "name": "stdout",
     "output_type": "stream",
     "text": [
      "Downloading data from https://storage.googleapis.com/tensorflow/tf-keras-datasets/mnist.npz\n",
      "11493376/11490434 [==============================] - 0s 0us/step\n"
     ]
    }
   ],
   "source": [
    "from keras.datasets import mnist\n",
    "import numpy as np\n",
    "\n",
    "(x_train, _), (x_test, _) = mnist.load_data()\n",
    "\n",
    "x_train = x_train.astype('float32') / 255.\n",
    "x_test = x_test.astype('float32') / 255.\n",
    "x_train = np.reshape(x_train, (len(x_train), 28, 28, 1))\n",
    "x_test = np.reshape(x_test, (len(x_test), 28, 28, 1))\n",
    "\n",
    "noise_factor = 0.5\n",
    "x_train_noisy = x_train + noise_factor * np.random.normal(loc=0.0, scale=1.0, size=x_train.shape) \n",
    "x_test_noisy = x_test + noise_factor * np.random.normal(loc=0.0, scale=1.0, size=x_test.shape) \n",
    "\n",
    "x_train_noisy = np.clip(x_train_noisy, 0., 1.)\n",
    "x_test_noisy = np.clip(x_test_noisy, 0., 1.)"
   ]
  },
  {
   "cell_type": "code",
   "execution_count": 4,
   "metadata": {
    "colab": {
     "base_uri": "https://localhost:8080/",
     "height": 88
    },
    "id": "FVoRjsNGOzr5",
    "outputId": "062d9c38-4ec7-49a6-8857-3df1d15f7093"
   },
   "outputs": [
    {
     "data": {
      "image/png": "[encoded data removed]",
      "text/plain": [
       "<Figure size 1440x144 with 10 Axes>"
      ]
     },
     "metadata": {
      "needs_background": "light",
      "tags": []
     },
     "output_type": "display_data"
    }
   ],
   "source": [
    "import matplotlib.pyplot as plt \n",
    "n = 10\n",
    "plt.figure(figsize=(20, 2))\n",
    "for i in range(1, n + 1):\n",
    "    ax = plt.subplot(1, n, i)\n",
    "    plt.imshow(x_test_noisy[i].reshape(28, 28))\n",
    "    plt.gray()\n",
    "    ax.get_xaxis().set_visible(False)\n",
    "    ax.get_yaxis().set_visible(False)\n",
    "plt.show()  #데이터에 노이즈 줌 "
   ]
  },
  {
   "cell_type": "code",
   "execution_count": 6,
   "metadata": {
    "id": "Dh_-CydFRVml"
   },
   "outputs": [],
   "source": [
    "import keras\n",
    "from keras import layers\n",
    "#model\n",
    "input_img = keras.Input(shape=(28, 28, 1))\n",
    "\n",
    "x = layers.Conv2D(32, (3, 3), activation='relu', padding='same')(input_img)\n",
    "x = layers.MaxPooling2D((2, 2), padding='same')(x)\n",
    "x = layers.Conv2D(32, (3, 3), activation='relu', padding='same')(x)\n",
    "encoded = layers.MaxPooling2D((2, 2), padding='same')(x)\n",
    "\n",
    "# At this point the representation is (7, 7, 32)\n",
    "x = layers.Conv2D(32, (3, 3), activation='relu', padding='same')(encoded)\n",
    "x = layers.UpSampling2D((2, 2))(x)\n",
    "x = layers.Conv2D(32, (3, 3), activation='relu', padding='same')(x)\n",
    "x = layers.UpSampling2D((2, 2))(x)\n",
    "decoded = layers.Conv2D(1, (3, 3), activation='sigmoid', padding='same')(x)\n",
    "\n",
    "autoencoder = keras.Model(input_img, decoded)\n",
    "autoencoder.compile(optimizer='adam', loss='binary_crossentropy')"
   ]
  }
 ],
 "metadata": {
  "accelerator": "GPU",
  "colab": {
   "collapsed_sections": [
    "TqINVlmj6qyG",
    "YiSXWyRfFkFZ"
   ],
   "name": "201027_12기_고급시각반",
   "provenance": []
  },
  "kernelspec": {
   "display_name": "Python 3",
   "language": "python",
   "name": "python3"
  },
  "language_info": {
   "codemirror_mode": {
    "name": "ipython",
    "version": 3
   },
   "file_extension": ".py",
   "mimetype": "text/x-python",
   "name": "python",
   "nbconvert_exporter": "python",
   "pygments_lexer": "ipython3",
   "version": "3.7.6"
  }
 },
 "nbformat": 4,
 "nbformat_minor": 1
}
